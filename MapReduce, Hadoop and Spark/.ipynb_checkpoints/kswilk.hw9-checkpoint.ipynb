{
 "cells": [
  {
   "cell_type": "markdown",
   "metadata": {},
   "source": [
    "## Stats701 Homework 9, Winter 2018\n",
    "### MapReduce, Hadoop and Spark\n",
    "### Katherine Wilkinson\n",
    "#### kswilk@umich.edu\n",
    "\n",
    "I discussed this homework with Sam Edds and Alex Everett"
   ]
  },
  {
   "cell_type": "code",
   "execution_count": 7,
   "metadata": {},
   "outputs": [],
   "source": [
    "from mrjob.job import MRJob\n",
    "import re\n",
    "import matplotlib as mp\n",
    "import matplotlib.pyplot as plt\n",
    "import scipy.stats as pystat\n",
    "import numpy as np"
   ]
  },
  {
   "cell_type": "markdown",
   "metadata": {},
   "source": [
    "### 1 Counting words with mrjob"
   ]
  },
  {
   "cell_type": "code",
   "execution_count": 6,
   "metadata": {},
   "outputs": [
    {
     "data": {
      "image/png": "[encoded data removed]",
      "text/plain": [
       "<matplotlib.figure.Figure at 0x1090f66d8>"
      ]
     },
     "metadata": {},
     "output_type": "display_data"
    }
   ],
   "source": [
    "simple = open('word_counts.txt')\n",
    "ls = list(simple)\n",
    "simple_pairs = []\n",
    "\n",
    "for i in ls:\n",
    "    simple_pairs.append(i.replace('\\n', '').replace('\\t',',').replace('\"', '').replace(' ',''))\n",
    "\n",
    "simple_pairs2 = []\n",
    "for j in simple_pairs:\n",
    "    simple_pairs2.append(j.split(','))\n",
    "    \n",
    "simple_x = []\n",
    "simple_y = []\n",
    "simple_pairs2.sort()\n",
    "for k in range(len(simple_pairs2)):\n",
    "    simple_pairs2[k][0] = int(simple_pairs2[k][0])\n",
    "    simple_x.append(simple_pairs2[k][0])\n",
    "    simple_y.append(simple_pairs2[k][1])\n",
    "\n",
    "\n",
    "count = sorted(simple_x, reverse = True)\n",
    "\n",
    "x_axis = np.arange(1,10,1)\n",
    "plt.title('LogLog Word Frequency vs Word Rank')\n",
    "plt.xlabel('Word Rank')\n",
    "plt.ylabel('Word Frequency')\n",
    "plt.loglog(count)\n",
    "\n",
    "_ = plt.show"
   ]
  },
  {
   "cell_type": "markdown",
   "metadata": {},
   "source": [
    "#### 1.5"
   ]
  },
  {
   "cell_type": "markdown",
   "metadata": {},
   "source": [
    "Our plot is slightly Zipfian. The plot is approximately a line with some curvative and steps at the edges. "
   ]
  },
  {
   "cell_type": "markdown",
   "metadata": {},
   "source": [
    "#### 2\n",
    "Write an mrjob job that takes text as input and counts how many times each word\n",
    "occurs in the text. "
   ]
  },
  {
   "cell_type": "code",
   "execution_count": 4,
   "metadata": {},
   "outputs": [
    {
     "data": {
      "image/png": "[encoded data removed]",
      "text/plain": [
       "<matplotlib.figure.Figure at 0x109541080>"
      ]
     },
     "metadata": {},
     "output_type": "display_data"
    }
   ],
   "source": [
    "pop = open('summary_large.txt')\n",
    "\n",
    "pop_ls = list(pop)\n",
    "\n",
    "sum_ls = []\n",
    "for i in pop_ls:\n",
    "    rp = i.replace('\\t',',').replace('\\n','').replace('[','').replace(']','').replace('\"','')\n",
    "    rp = rp.split(\",\")\n",
    "    sum_ls.append(rp)\n",
    "\n",
    "\n",
    "x = []\n",
    "y = []\n",
    "for j in range(len(sum_ls)):\n",
    "    x.append(sum_ls[j][0])\n",
    "    y.append((sum_ls[j][1:]))\n",
    "for n in y:\n",
    "    for s in range(len(n)):\n",
    "        n[s] = float(n[s])\n",
    "    \n",
    "sum_dict = dict(zip(x, y))\n",
    "\n",
    "ub = 0\n",
    "lb = 0\n",
    "ci ={}\n",
    "\n",
    "for key, value in sum_dict.items():\n",
    "    ub = value[1] + 1.96*(np.sqrt(value[2])/np.sqrt(value[0]))\n",
    "    lb = value[1] - 1.96*(np.sqrt(value[2])/np.sqrt(value[0]))\n",
    "    #ci.append((ub,lb))\n",
    "    ci[key] = [lb,ub]\n",
    "\n",
    "fig, ax = plt.subplots()\n",
    "plt.title('Sample Mean Confidence Intervals')\n",
    "plt.ylabel('CI values')\n",
    "plt.xlabel('Class Label')\n",
    "plt.boxplot(ci.values())\n",
    "ax.set_xticklabels(ci.keys())\n",
    "_=plt.show()"
   ]
  },
  {
   "cell_type": "markdown",
   "metadata": {},
   "source": [
    "### 3. Graph Processing: Counting Triangles with PySpark"
   ]
  },
  {
   "cell_type": "code",
   "execution_count": null,
   "metadata": {},
   "outputs": [],
   "source": [
    "##ssh kswilk@flux-hadoop-login.arc-ts.umich.edu\n",
    "##python MRtest.py -r hadoop hdfs:///var/stat701w18/moby_dick.txt>word_counts.txt\n",
    "#scp /Users/maraudersmap/Documents/STATS_701_PYTHON/kswilk_hw9/word_counts.txt word_counts.txt\n",
    "\n",
    "#data =sc.textFile('hdfs:///var/stat701w18/fof/friends.simple')\n",
    "\n",
    "# spark-submit --master yarn --queue teaching triangles_final.py /var/stat701w18/fof/friends.simple triangles_small3\n",
    "\n",
    "# hdfs dfs -ls spark_output/\n",
    "# hdfs dfs -cat triangles_small3/* > small_triangle_list.txt\n",
    "\n",
    "# spark-submit --master yarn --queue teaching triangles.py /var/stat701w18/fof/friends1000 triangles_large\n",
    "\n",
    "# hdfs dfs -cat triangles_large/* > big_triangle_list.txt\n",
    "\n",
    "#spark-submit --master yarn --driver-memory 4G --driver-cores 100 --num-executors 200  --queue teaching triangles_final.py /var/stat701w18/fof/friends1000 triangles_large\n",
    "\n"
   ]
  }
 ],
 "metadata": {
  "kernelspec": {
   "display_name": "Python 3",
   "language": "python",
   "name": "python3"
  },
  "language_info": {
   "codemirror_mode": {
    "name": "ipython",
    "version": 3
   },
   "file_extension": ".py",
   "mimetype": "text/x-python",
   "name": "python",
   "nbconvert_exporter": "python",
   "pygments_lexer": "ipython3",
   "version": "3.6.4"
  }
 },
 "nbformat": 4,
 "nbformat_minor": 2
}
