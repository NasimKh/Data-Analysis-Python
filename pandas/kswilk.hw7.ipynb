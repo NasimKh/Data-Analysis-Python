{
 "cells": [
  {
   "cell_type": "markdown",
   "metadata": {},
   "source": [
    "## Stats701 Homework 7, Winter 2018\n",
    "### Pandas\n",
    "### Katherine Wilkinson\n",
    "#### kswilk@umich.edu\n",
    "\n",
    "I discussed this homework with Sam Edds"
   ]
  },
  {
   "cell_type": "markdown",
   "metadata": {},
   "source": [
    "#### 1. Warmup: Construction pandas objects"
   ]
  },
  {
   "cell_type": "code",
   "execution_count": 418,
   "metadata": {},
   "outputs": [],
   "source": [
    "import pandas as pd\n",
    "import numpy as np\n",
    "import matplotlib.pyplot as plt"
   ]
  },
  {
   "cell_type": "markdown",
   "metadata": {},
   "source": [
    "##### 1.1 \n",
    "Create a pandas Series object with indices given by the first 10 letters of the English\n",
    "alphabet and values given by the first 10 primes"
   ]
  },
  {
   "cell_type": "code",
   "execution_count": 5,
   "metadata": {},
   "outputs": [],
   "source": [
    "## Use prime generator from previous homework\n",
    "def primes():\n",
    "    #first prime is 2\n",
    "    n = 2\n",
    "    #create empty set to put primes in\n",
    "    primes = set()\n",
    "    while True:\n",
    "        #loop through set\n",
    "        for p in primes:\n",
    "            #if n/p has no remainder, break while loop\n",
    "            #that is, n is divisble by some number not itself or 1\n",
    "            #print(n%p , n,p)\n",
    "            if n % p == 0:\n",
    "                break\n",
    "        \n",
    "        else:\n",
    "            # if n%p != 0, add to primes set\n",
    "            primes.add(n)\n",
    "            #yield all n added to primes set\n",
    "            yield n\n",
    "        #add one to n \n",
    "        n = n + 1\n",
    "p = primes()\n",
    "#generate first 10 primes\n",
    "p = [next(p) for _ in range(10)]"
   ]
  },
  {
   "cell_type": "code",
   "execution_count": 460,
   "metadata": {},
   "outputs": [
    {
     "data": {
      "text/plain": [
       "a     2\n",
       "b     3\n",
       "c     5\n",
       "d     7\n",
       "e    11\n",
       "f    13\n",
       "g    17\n",
       "h    19\n",
       "i    23\n",
       "j    29\n",
       "dtype: int64"
      ]
     },
     "execution_count": 460,
     "metadata": {},
     "output_type": "execute_result"
    }
   ],
   "source": [
    "# Create index for first 10 letters of alphabet\n",
    "idx = ['a','b','c','d','e','f','g','h','i','j']\n",
    "#Create pandas series\n",
    "s = pd.Series(p, index = idx)\n"
   ]
  },
  {
   "cell_type": "markdown",
   "metadata": {},
   "source": [
    "##### 1.2\n",
    "Below is a table that might arise in a genetics experiment. Reconstruct this as a\n",
    "pandas DataFrame."
   ]
  },
  {
   "cell_type": "code",
   "execution_count": 64,
   "metadata": {},
   "outputs": [
    {
     "data": {
      "text/html": [
       "<div>\n",
       "<style scoped>\n",
       "    .dataframe tbody tr th:only-of-type {\n",
       "        vertical-align: middle;\n",
       "    }\n",
       "\n",
       "    .dataframe tbody tr th {\n",
       "        vertical-align: top;\n",
       "    }\n",
       "\n",
       "    .dataframe thead th {\n",
       "        text-align: right;\n",
       "    }\n",
       "</style>\n",
       "<table border=\"1\" class=\"dataframe\">\n",
       "  <thead>\n",
       "    <tr style=\"text-align: right;\">\n",
       "      <th></th>\n",
       "      <th></th>\n",
       "      <th></th>\n",
       "      <th>score1</th>\n",
       "      <th>score2</th>\n",
       "    </tr>\n",
       "    <tr>\n",
       "      <th>animal</th>\n",
       "      <th>parent1</th>\n",
       "      <th>parent2</th>\n",
       "      <th></th>\n",
       "      <th></th>\n",
       "    </tr>\n",
       "  </thead>\n",
       "  <tbody>\n",
       "    <tr>\n",
       "      <th rowspan=\"4\" valign=\"top\">goat</th>\n",
       "      <th rowspan=\"2\" valign=\"top\">A</th>\n",
       "      <th>A</th>\n",
       "      <td>1</td>\n",
       "      <td>2</td>\n",
       "    </tr>\n",
       "    <tr>\n",
       "      <th>a</th>\n",
       "      <td>2</td>\n",
       "      <td>4</td>\n",
       "    </tr>\n",
       "    <tr>\n",
       "      <th rowspan=\"2\" valign=\"top\">a</th>\n",
       "      <th>A</th>\n",
       "      <td>3</td>\n",
       "      <td>4</td>\n",
       "    </tr>\n",
       "    <tr>\n",
       "      <th>a</th>\n",
       "      <td>4</td>\n",
       "      <td>6</td>\n",
       "    </tr>\n",
       "    <tr>\n",
       "      <th rowspan=\"4\" valign=\"top\">bird</th>\n",
       "      <th rowspan=\"2\" valign=\"top\">A</th>\n",
       "      <th>A</th>\n",
       "      <td>5</td>\n",
       "      <td>6</td>\n",
       "    </tr>\n",
       "    <tr>\n",
       "      <th>a</th>\n",
       "      <td>6</td>\n",
       "      <td>8</td>\n",
       "    </tr>\n",
       "    <tr>\n",
       "      <th rowspan=\"2\" valign=\"top\">a</th>\n",
       "      <th>A</th>\n",
       "      <td>7</td>\n",
       "      <td>8</td>\n",
       "    </tr>\n",
       "    <tr>\n",
       "      <th>a</th>\n",
       "      <td>8</td>\n",
       "      <td>10</td>\n",
       "    </tr>\n",
       "    <tr>\n",
       "      <th rowspan=\"4\" valign=\"top\">llama</th>\n",
       "      <th rowspan=\"2\" valign=\"top\">A</th>\n",
       "      <th>A</th>\n",
       "      <td>9</td>\n",
       "      <td>10</td>\n",
       "    </tr>\n",
       "    <tr>\n",
       "      <th>a</th>\n",
       "      <td>10</td>\n",
       "      <td>12</td>\n",
       "    </tr>\n",
       "    <tr>\n",
       "      <th rowspan=\"2\" valign=\"top\">a</th>\n",
       "      <th>A</th>\n",
       "      <td>11</td>\n",
       "      <td>12</td>\n",
       "    </tr>\n",
       "    <tr>\n",
       "      <th>a</th>\n",
       "      <td>12</td>\n",
       "      <td>14</td>\n",
       "    </tr>\n",
       "  </tbody>\n",
       "</table>\n",
       "</div>"
      ],
      "text/plain": [
       "                        score1  score2\n",
       "animal parent1 parent2                \n",
       "goat   A       A             1       2\n",
       "               a             2       4\n",
       "       a       A             3       4\n",
       "               a             4       6\n",
       "bird   A       A             5       6\n",
       "               a             6       8\n",
       "       a       A             7       8\n",
       "               a             8      10\n",
       "llama  A       A             9      10\n",
       "               a            10      12\n",
       "       a       A            11      12\n",
       "               a            12      14"
      ]
     },
     "execution_count": 64,
     "metadata": {},
     "output_type": "execute_result"
    }
   ],
   "source": [
    "## Create empty list to append values 1-12\n",
    "score1 = []\n",
    "for i in range(1,13):\n",
    "    score1.append(i)\n",
    "\n",
    "## create dictionary for score1 and score2\n",
    "d = {'score1':pd.Series(score1),\n",
    "    'score2':pd.Series([2,4,4,6,6,8,8,10,10,12,12,14])}\n",
    "\n",
    "## create values for indices \n",
    "arrs = [['goat','goat','goat','goat','bird','bird',\n",
    "        'bird','bird','llama','llama','llama','llama'],\n",
    "        ['A','A','a','a','A','A','a','a','A','A','a','a'],\n",
    "       ['A','a','A','a','A','a','A','a','A','a','A','a']]\n",
    "\n",
    "##Arragne multiple indicies\n",
    "idx = pd.MultiIndex.from_arrays(arrs, names = ['animal',\n",
    "                                              'parent1', 'parent2'])\n",
    "\n",
    "##Create series with score1 and above index\n",
    "s = pd.Series(score1, index = idx)\n",
    "d2 = {'score1':s}\n",
    "#Make it dataframe\n",
    "df = pd.DataFrame(d2)\n",
    "##Add score2 to the data frame\n",
    "df['score2'] = [2,4,4,6,6,8,8,10,10,12,12,14]\n",
    "df"
   ]
  },
  {
   "cell_type": "markdown",
   "metadata": {},
   "source": [
    "#### 2. Working with pandas DataFrames"
   ]
  },
  {
   "cell_type": "markdown",
   "metadata": {},
   "source": [
    "##### 2.1\n",
    "Download the iris data set from the link above. Please include this file in your\n",
    "submission. Read iris.csv into Python as a pandas DataFrame. Note that the\n",
    "CSV file includes column headers. How many data points are there in this data set?\n",
    "What are the data types of the columns? What are the column names? The column\n",
    "names correspond to flower species names, as well as four basic measurements one\n",
    "can make of a flower: the width and length of its petals and the width and length\n",
    "of its sepal (the part of the pant that supports and protects the flower itself). How\n",
    "many species of flower are included in the data?"
   ]
  },
  {
   "cell_type": "code",
   "execution_count": 463,
   "metadata": {},
   "outputs": [
    {
     "name": "stdout",
     "output_type": "stream",
     "text": [
      "<class 'pandas.core.frame.DataFrame'>\n",
      "RangeIndex: 150 entries, 0 to 149\n",
      "Data columns (total 5 columns):\n",
      "Sepal.Length    150 non-null float64\n",
      "Sepal.Width     150 non-null float64\n",
      "Petal.Length    150 non-null float64\n",
      "Petal.Width     150 non-null float64\n",
      "Species         150 non-null object\n",
      "dtypes: float64(4), object(1)\n",
      "memory usage: 5.9+ KB\n"
     ]
    },
    {
     "data": {
      "text/plain": [
       "array(['setosa', 'versicolor', 'virginica'], dtype=object)"
      ]
     },
     "execution_count": 463,
     "metadata": {},
     "output_type": "execute_result"
    }
   ],
   "source": [
    "iris = pd.read_csv('iris.csv')\n",
    "iris.info()\n",
    "iris.head()\n",
    "iris['Species'].unique()"
   ]
  },
  {
   "cell_type": "markdown",
   "metadata": {},
   "source": [
    "* \\# of Data points: 150\n",
    "* Data types: 1st 4 columns are floats, last is object\n",
    "* Column names:\n",
    "    * Sepal.Length\n",
    "    * Sepal.Width\n",
    "    * Petal.Length\n",
    "    * Petal.Width\n",
    "    * Species\n",
    "* Species of Flowers:\n",
    "    * Setosa, Versicolor, Virginica \n"
   ]
  },
  {
   "cell_type": "markdown",
   "metadata": {},
   "source": [
    "##### 2.3\n",
    "The data that I uploaded to my website, which you have downloaded, is based\n",
    "on the data initially uploaded to the UC Irvine machine learning repository. It is\n",
    "now known that this data contains errors in two of its rows (see the documentation\n",
    "at https://archive.ics.uci.edu/ml/datasets/Iris). Using 1-indexing, these\n",
    "errors are in the 35th and 38th rows. The 35th row should read 4.9,3.1,1.5,0.2,”Iris-setosa”,\n",
    "where the fourth feature is incorrect as it appears in the file, and the 38th\n",
    "row should read 4.9,3.6,1.4,0.1,”Iris-setosa”, where the second and third features are\n",
    "incorrect as they appear in the file. Correct these entries of your DataFrame"
   ]
  },
  {
   "cell_type": "code",
   "execution_count": 464,
   "metadata": {},
   "outputs": [],
   "source": [
    "# Change error in 34th Row\n",
    "iris.iloc[34, iris.columns.get_loc('Petal.Width')] = 0.2\n",
    "\n",
    "#Change errors in 37th Row\n",
    "iris.iloc[37, iris.columns.get_loc('Sepal.Width')] = 2.6\n",
    "iris.iloc[37, iris.columns.get_loc('Petal.Width')] = 1.4"
   ]
  },
  {
   "cell_type": "markdown",
   "metadata": {},
   "source": [
    "##### 3.3\n",
    "The iris dataset is commonly used in machine learning as a proving ground for\n",
    "clustering and classification algorithms. Some researchers have found it useful to\n",
    "use two additional features, called *Petal ratio* and *Sepal ratio*, defined as the ratio\n",
    "of the petal length to petal width and the ratio of the sepal length to sepal width,\n",
    "respectively. Add two columns to you DataFrame corresponding to these two new\n",
    "features. Name these columns Petal.Ratio and Sepal.Ratio, respectively."
   ]
  },
  {
   "cell_type": "code",
   "execution_count": 465,
   "metadata": {},
   "outputs": [
    {
     "data": {
      "text/html": [
       "<div>\n",
       "<style scoped>\n",
       "    .dataframe tbody tr th:only-of-type {\n",
       "        vertical-align: middle;\n",
       "    }\n",
       "\n",
       "    .dataframe tbody tr th {\n",
       "        vertical-align: top;\n",
       "    }\n",
       "\n",
       "    .dataframe thead th {\n",
       "        text-align: right;\n",
       "    }\n",
       "</style>\n",
       "<table border=\"1\" class=\"dataframe\">\n",
       "  <thead>\n",
       "    <tr style=\"text-align: right;\">\n",
       "      <th></th>\n",
       "      <th>Sepal.Length</th>\n",
       "      <th>Sepal.Width</th>\n",
       "      <th>Petal.Length</th>\n",
       "      <th>Petal.Width</th>\n",
       "      <th>Species</th>\n",
       "      <th>Petal.Ratio</th>\n",
       "      <th>Sepal.Ratio</th>\n",
       "    </tr>\n",
       "  </thead>\n",
       "  <tbody>\n",
       "    <tr>\n",
       "      <th>0</th>\n",
       "      <td>5.1</td>\n",
       "      <td>3.5</td>\n",
       "      <td>1.4</td>\n",
       "      <td>0.2</td>\n",
       "      <td>setosa</td>\n",
       "      <td>7.0</td>\n",
       "      <td>1.457143</td>\n",
       "    </tr>\n",
       "    <tr>\n",
       "      <th>1</th>\n",
       "      <td>4.9</td>\n",
       "      <td>3.0</td>\n",
       "      <td>1.4</td>\n",
       "      <td>0.2</td>\n",
       "      <td>setosa</td>\n",
       "      <td>7.0</td>\n",
       "      <td>1.633333</td>\n",
       "    </tr>\n",
       "    <tr>\n",
       "      <th>2</th>\n",
       "      <td>4.7</td>\n",
       "      <td>3.2</td>\n",
       "      <td>1.3</td>\n",
       "      <td>0.2</td>\n",
       "      <td>setosa</td>\n",
       "      <td>6.5</td>\n",
       "      <td>1.468750</td>\n",
       "    </tr>\n",
       "    <tr>\n",
       "      <th>3</th>\n",
       "      <td>4.6</td>\n",
       "      <td>3.1</td>\n",
       "      <td>1.5</td>\n",
       "      <td>0.2</td>\n",
       "      <td>setosa</td>\n",
       "      <td>7.5</td>\n",
       "      <td>1.483871</td>\n",
       "    </tr>\n",
       "    <tr>\n",
       "      <th>4</th>\n",
       "      <td>5.0</td>\n",
       "      <td>3.6</td>\n",
       "      <td>1.4</td>\n",
       "      <td>0.2</td>\n",
       "      <td>setosa</td>\n",
       "      <td>7.0</td>\n",
       "      <td>1.388889</td>\n",
       "    </tr>\n",
       "  </tbody>\n",
       "</table>\n",
       "</div>"
      ],
      "text/plain": [
       "   Sepal.Length  Sepal.Width  Petal.Length  Petal.Width Species  Petal.Ratio  \\\n",
       "0           5.1          3.5           1.4          0.2  setosa          7.0   \n",
       "1           4.9          3.0           1.4          0.2  setosa          7.0   \n",
       "2           4.7          3.2           1.3          0.2  setosa          6.5   \n",
       "3           4.6          3.1           1.5          0.2  setosa          7.5   \n",
       "4           5.0          3.6           1.4          0.2  setosa          7.0   \n",
       "\n",
       "   Sepal.Ratio  \n",
       "0     1.457143  \n",
       "1     1.633333  \n",
       "2     1.468750  \n",
       "3     1.483871  \n",
       "4     1.388889  "
      ]
     },
     "execution_count": 465,
     "metadata": {},
     "output_type": "execute_result"
    }
   ],
   "source": [
    "## Create two new columns for petal.ratio and sepal.ratio\n",
    "iris['Petal.Ratio'] = iris['Petal.Length']/iris['Petal.Width']\n",
    "iris['Sepal.Ratio'] = iris['Sepal.Length']/iris['Sepal.Width']\n",
    "iris.head()"
   ]
  },
  {
   "cell_type": "markdown",
   "metadata": {},
   "source": [
    "##### 2.4\n",
    "Save your corrected and extended iris DataFrame to a csv file called iris_corrected.csv.\n",
    "Please include this file in your submission"
   ]
  },
  {
   "cell_type": "code",
   "execution_count": 466,
   "metadata": {},
   "outputs": [
    {
     "data": {
      "text/html": [
       "<div>\n",
       "<style scoped>\n",
       "    .dataframe tbody tr th:only-of-type {\n",
       "        vertical-align: middle;\n",
       "    }\n",
       "\n",
       "    .dataframe tbody tr th {\n",
       "        vertical-align: top;\n",
       "    }\n",
       "\n",
       "    .dataframe thead th {\n",
       "        text-align: right;\n",
       "    }\n",
       "</style>\n",
       "<table border=\"1\" class=\"dataframe\">\n",
       "  <thead>\n",
       "    <tr style=\"text-align: right;\">\n",
       "      <th></th>\n",
       "      <th>Sepal.Length</th>\n",
       "      <th>Sepal.Width</th>\n",
       "      <th>Petal.Length</th>\n",
       "      <th>Petal.Width</th>\n",
       "      <th>Species</th>\n",
       "      <th>Petal.Ratio</th>\n",
       "      <th>Sepal.Ratio</th>\n",
       "    </tr>\n",
       "  </thead>\n",
       "  <tbody>\n",
       "    <tr>\n",
       "      <th>0</th>\n",
       "      <td>5.1</td>\n",
       "      <td>3.5</td>\n",
       "      <td>1.4</td>\n",
       "      <td>0.2</td>\n",
       "      <td>setosa</td>\n",
       "      <td>7.0</td>\n",
       "      <td>1.457143</td>\n",
       "    </tr>\n",
       "    <tr>\n",
       "      <th>1</th>\n",
       "      <td>4.9</td>\n",
       "      <td>3.0</td>\n",
       "      <td>1.4</td>\n",
       "      <td>0.2</td>\n",
       "      <td>setosa</td>\n",
       "      <td>7.0</td>\n",
       "      <td>1.633333</td>\n",
       "    </tr>\n",
       "    <tr>\n",
       "      <th>2</th>\n",
       "      <td>4.7</td>\n",
       "      <td>3.2</td>\n",
       "      <td>1.3</td>\n",
       "      <td>0.2</td>\n",
       "      <td>setosa</td>\n",
       "      <td>6.5</td>\n",
       "      <td>1.468750</td>\n",
       "    </tr>\n",
       "    <tr>\n",
       "      <th>3</th>\n",
       "      <td>4.6</td>\n",
       "      <td>3.1</td>\n",
       "      <td>1.5</td>\n",
       "      <td>0.2</td>\n",
       "      <td>setosa</td>\n",
       "      <td>7.5</td>\n",
       "      <td>1.483871</td>\n",
       "    </tr>\n",
       "    <tr>\n",
       "      <th>4</th>\n",
       "      <td>5.0</td>\n",
       "      <td>3.6</td>\n",
       "      <td>1.4</td>\n",
       "      <td>0.2</td>\n",
       "      <td>setosa</td>\n",
       "      <td>7.0</td>\n",
       "      <td>1.388889</td>\n",
       "    </tr>\n",
       "  </tbody>\n",
       "</table>\n",
       "</div>"
      ],
      "text/plain": [
       "   Sepal.Length  Sepal.Width  Petal.Length  Petal.Width Species  Petal.Ratio  \\\n",
       "0           5.1          3.5           1.4          0.2  setosa          7.0   \n",
       "1           4.9          3.0           1.4          0.2  setosa          7.0   \n",
       "2           4.7          3.2           1.3          0.2  setosa          6.5   \n",
       "3           4.6          3.1           1.5          0.2  setosa          7.5   \n",
       "4           5.0          3.6           1.4          0.2  setosa          7.0   \n",
       "\n",
       "   Sepal.Ratio  \n",
       "0     1.457143  \n",
       "1     1.633333  \n",
       "2     1.468750  \n",
       "3     1.483871  \n",
       "4     1.388889  "
      ]
     },
     "execution_count": 466,
     "metadata": {},
     "output_type": "execute_result"
    }
   ],
   "source": [
    "## Save to csv file\n",
    "iris.to_csv('iris_corrected.csv', index = False)\n",
    "## Index name however seems to be created as a new unnamed column??\n",
    "## How to make that not be the case? \n",
    "iris2 = pd.read_csv('iris_corrected.csv')"
   ]
  },
  {
   "cell_type": "markdown",
   "metadata": {},
   "source": [
    "##### 2.5\n",
    "Use a pandas aggregate operation to determine the mean, median, minimum, maximum\n",
    "and standard deviation of the petal and sepal ratio for each of the three species\n",
    "in the data set."
   ]
  },
  {
   "cell_type": "code",
   "execution_count": 431,
   "metadata": {},
   "outputs": [
    {
     "data": {
      "text/html": [
       "<div>\n",
       "<style scoped>\n",
       "    .dataframe tbody tr th:only-of-type {\n",
       "        vertical-align: middle;\n",
       "    }\n",
       "\n",
       "    .dataframe tbody tr th {\n",
       "        vertical-align: top;\n",
       "    }\n",
       "\n",
       "    .dataframe thead tr th {\n",
       "        text-align: left;\n",
       "    }\n",
       "\n",
       "    .dataframe thead tr:last-of-type th {\n",
       "        text-align: right;\n",
       "    }\n",
       "</style>\n",
       "<table border=\"1\" class=\"dataframe\">\n",
       "  <thead>\n",
       "    <tr>\n",
       "      <th></th>\n",
       "      <th colspan=\"5\" halign=\"left\">Petal.Ratio</th>\n",
       "      <th colspan=\"5\" halign=\"left\">Sepal.Ratio</th>\n",
       "    </tr>\n",
       "    <tr>\n",
       "      <th></th>\n",
       "      <th>mean</th>\n",
       "      <th>median</th>\n",
       "      <th>min</th>\n",
       "      <th>max</th>\n",
       "      <th>std</th>\n",
       "      <th>mean</th>\n",
       "      <th>median</th>\n",
       "      <th>min</th>\n",
       "      <th>max</th>\n",
       "      <th>std</th>\n",
       "    </tr>\n",
       "    <tr>\n",
       "      <th>Species</th>\n",
       "      <th></th>\n",
       "      <th></th>\n",
       "      <th></th>\n",
       "      <th></th>\n",
       "      <th></th>\n",
       "      <th></th>\n",
       "      <th></th>\n",
       "      <th></th>\n",
       "      <th></th>\n",
       "      <th></th>\n",
       "    </tr>\n",
       "  </thead>\n",
       "  <tbody>\n",
       "    <tr>\n",
       "      <th>setosa</th>\n",
       "      <td>6.649429</td>\n",
       "      <td>7.000000</td>\n",
       "      <td>1.071429</td>\n",
       "      <td>15.0</td>\n",
       "      <td>2.783695</td>\n",
       "      <td>1.480658</td>\n",
       "      <td>1.467708</td>\n",
       "      <td>1.268293</td>\n",
       "      <td>1.956522</td>\n",
       "      <td>0.131346</td>\n",
       "    </tr>\n",
       "    <tr>\n",
       "      <th>versicolor</th>\n",
       "      <td>3.242837</td>\n",
       "      <td>3.240385</td>\n",
       "      <td>2.666667</td>\n",
       "      <td>4.1</td>\n",
       "      <td>0.312456</td>\n",
       "      <td>2.160402</td>\n",
       "      <td>2.161290</td>\n",
       "      <td>1.764706</td>\n",
       "      <td>2.818182</td>\n",
       "      <td>0.228658</td>\n",
       "    </tr>\n",
       "    <tr>\n",
       "      <th>virginica</th>\n",
       "      <td>2.780662</td>\n",
       "      <td>2.666667</td>\n",
       "      <td>2.125000</td>\n",
       "      <td>4.0</td>\n",
       "      <td>0.407367</td>\n",
       "      <td>2.230453</td>\n",
       "      <td>2.169540</td>\n",
       "      <td>1.823529</td>\n",
       "      <td>2.961538</td>\n",
       "      <td>0.246992</td>\n",
       "    </tr>\n",
       "  </tbody>\n",
       "</table>\n",
       "</div>"
      ],
      "text/plain": [
       "           Petal.Ratio                                     Sepal.Ratio  \\\n",
       "                  mean    median       min   max       std        mean   \n",
       "Species                                                                  \n",
       "setosa        6.649429  7.000000  1.071429  15.0  2.783695    1.480658   \n",
       "versicolor    3.242837  3.240385  2.666667   4.1  0.312456    2.160402   \n",
       "virginica     2.780662  2.666667  2.125000   4.0  0.407367    2.230453   \n",
       "\n",
       "                                                    \n",
       "              median       min       max       std  \n",
       "Species                                             \n",
       "setosa      1.467708  1.268293  1.956522  0.131346  \n",
       "versicolor  2.161290  1.764706  2.818182  0.228658  \n",
       "virginica   2.169540  1.823529  2.961538  0.246992  "
      ]
     },
     "execution_count": 431,
     "metadata": {},
     "output_type": "execute_result"
    }
   ],
   "source": [
    "iris.groupby('Species')['Petal.Ratio','Sepal.Ratio'].agg(['mean',\n",
    "                                                         'median',\n",
    "                                                         'min',\n",
    "                                                         'max',\n",
    "                                                         'std'])"
   ]
  },
  {
   "cell_type": "markdown",
   "metadata": {},
   "source": [
    "#### 3. Plotting pandas DataFrames"
   ]
  },
  {
   "cell_type": "markdown",
   "metadata": {},
   "source": [
    "##### 3.1\n",
    "Use the built-in pandas plotting tools to make a box-and-whisker plot showing the\n",
    "distribution of petal ratio and sepal ratio for each of the three species. Your plot\n",
    "should have two subplots, one for petal ratio and one for sepal ratio. You may choose\n",
    "the details of your plots (i.e., how to handle outliers, displaying mean vs median,\n",
    "etc) however you think is best. Please include labels on your x- and y-axes and give\n",
    "an appropriate title to your plot."
   ]
  },
  {
   "cell_type": "code",
   "execution_count": 449,
   "metadata": {},
   "outputs": [
    {
     "data": {
      "image/png": "[encoded data removed]",
      "text/plain": [
       "<matplotlib.figure.Figure at 0x10da0a4a8>"
      ]
     },
     "metadata": {},
     "output_type": "display_data"
    }
   ],
   "source": [
    "#iris = iris.set_index('Species')\n",
    "\n",
    "#Set up subplots and figure sizes\n",
    "fig, axes = plt.subplots(nrows = 1, ncols=2, figsize = (20,10))\n",
    "\n",
    "#plot Petal Ratio\n",
    "a = iris.boxplot(column = ['Petal.Ratio'],by = ['Species'],\n",
    "            ax = axes[0])\n",
    "\n",
    "#plot Sepal Ratio\n",
    "b = iris.boxplot(column = ['Sepal.Ratio'],by = ['Species'],\n",
    "            ax = axes[1])\n",
    "\n",
    "##Set y labels\n",
    "a.set_ylabel('Petal Length to Petal Width Ratio')\n",
    "b.set_ylabel('Sepal Length to Sepal Width Ratio')\n",
    "\n",
    "#Set title\n",
    "fig.suptitle('Boxplots of Petal and Sepal Ratios by Species')\n",
    "\n",
    "_ = plt.show"
   ]
  },
  {
   "cell_type": "markdown",
   "metadata": {},
   "source": [
    "##### 3.2\n",
    "Use the built-in pandas plotting tools to make a scatter matrix plot for the four original\n",
    "features (petal width, petal length, sepal width and sepal length). Each point in\n",
    "the scatter plot should be colored according to its species. See the documentation\n",
    "at https://pandas.pydata.org/pandas-docs/stable/visualization.html#\n",
    "scatter-matrix-plot to get started."
   ]
  },
  {
   "cell_type": "code",
   "execution_count": 451,
   "metadata": {},
   "outputs": [],
   "source": [
    "#Import scatter matrix\n",
    "from pandas.plotting import scatter_matrix"
   ]
  },
  {
   "cell_type": "code",
   "execution_count": 455,
   "metadata": {},
   "outputs": [
    {
     "data": {
      "text/plain": [
       "array([0, 1, 2])"
      ]
     },
     "execution_count": 455,
     "metadata": {},
     "output_type": "execute_result"
    }
   ],
   "source": [
    "## Change type in iris to category\n",
    "iris['Species'] = iris['Species'].astype('category')\n",
    "\n",
    "## put species into classification coes (0,1,2) to plot\n",
    "iris['Species_code'] = iris['Species'].cat.codes"
   ]
  },
  {
   "cell_type": "code",
   "execution_count": 457,
   "metadata": {},
   "outputs": [
    {
     "data": {
      "image/png": "[encoded data removed]",
      "text/plain": [
       "<matplotlib.figure.Figure at 0x10c87d198>"
      ]
     },
     "metadata": {},
     "output_type": "display_data"
    }
   ],
   "source": [
    "## Select just first 5 columns\n",
    "iris_og = iris.iloc[:,0:5]\n",
    "\n",
    "##Set colors for classification\n",
    "colors_palette = {0: \"red\", 1: \"green\", 2: \"blue\"}\n",
    "## Color by species code\n",
    "colors = [colors_palette[c] for c in iris['Species_code']] \n",
    "\n",
    "##plot with scatter matrix\n",
    "sm = scatter_matrix(iris_og, color = colors, diagonal = 'kde',\n",
    "              figsize = (6,6))\n",
    "    \n",
    "#Show it, marvel at how pretty it is. Just look at those colors.\n",
    "#Magnificent\n",
    "_ = plt.show()"
   ]
  }
 ],
 "metadata": {
  "kernelspec": {
   "display_name": "Python 3",
   "language": "python",
   "name": "python3"
  },
  "language_info": {
   "codemirror_mode": {
    "name": "ipython",
    "version": 3
   },
   "file_extension": ".py",
   "mimetype": "text/x-python",
   "name": "python",
   "nbconvert_exporter": "python",
   "pygments_lexer": "ipython3",
   "version": "3.6.4"
  }
 },
 "nbformat": 4,
 "nbformat_minor": 2
}
