{
 "cells": [
  {
   "cell_type": "markdown",
   "metadata": {},
   "source": [
    "## Stats701 Homework 2, Winter 2018\n",
    "### Iteration, Strings, and Lists\n",
    "### Katherine Wilkinson\n",
    "#### kswilk@umich.edu\n",
    "\n",
    "I did not discuss this homework with anyone. "
   ]
  },
  {
   "cell_type": "markdown",
   "metadata": {},
   "source": [
    "### 1: Fun with Strings\n",
    "\n",
    "#### 1.1\n",
    "\n",
    "Palidrome: https://en.wikipedia.org/wiki/Palindrome\n",
    "\n",
    "Write a function called is_palindrome, which takes a string as its only argument, and returns a Boolean."
   ]
  },
  {
   "cell_type": "code",
   "execution_count": 2,
   "metadata": {},
   "outputs": [],
   "source": [
    "def is_palidrome(string):\n",
    "    #make input string all lower \n",
    "    strg = string.lower()\n",
    "    #remove any spaces in input string\n",
    "    strg = strg.replace(' ' ,'')\n",
    "    \n",
    "    #Loop through length of string\n",
    "    #check is element[k] is equal to element[-k-1]\n",
    "        #recall: python index starts at 0, but element[-1]\n",
    "        #is last element in list so we need element[0] == element[-1]\n",
    "    for k in range(0,len(strg)):\n",
    "        if strg[k]==strg[-k-1]:\n",
    "            return(True)\n",
    "        return(False)"
   ]
  },
  {
   "cell_type": "code",
   "execution_count": 86,
   "metadata": {},
   "outputs": [
    {
     "data": {
      "text/plain": [
       "False"
      ]
     },
     "execution_count": 86,
     "metadata": {},
     "output_type": "execute_result"
    }
   ],
   "source": [
    "is_palidrome('goats are cool')"
   ]
  },
  {
   "cell_type": "code",
   "execution_count": 5,
   "metadata": {},
   "outputs": [
    {
     "data": {
      "text/plain": [
       "True"
      ]
     },
     "execution_count": 5,
     "metadata": {},
     "output_type": "execute_result"
    }
   ],
   "source": [
    "is_palidrome(' GO  hang a salami Im a lasagna HOG')"
   ]
  },
  {
   "cell_type": "code",
   "execution_count": 553,
   "metadata": {},
   "outputs": [
    {
     "data": {
      "text/plain": [
       "True"
      ]
     },
     "execution_count": 553,
     "metadata": {},
     "output_type": "execute_result"
    }
   ],
   "source": [
    "is_palidrome('kayak')"
   ]
  },
  {
   "cell_type": "markdown",
   "metadata": {},
   "source": [
    "#### 1.2\n",
    "\n",
    "Write a function is_abecedarian, which takes a single argument in the form of a string and returns True if the argument is abecedarian and False otherwise."
   ]
  },
  {
   "cell_type": "code",
   "execution_count": 91,
   "metadata": {},
   "outputs": [],
   "source": [
    "def is_abecedarian(strg):\n",
    "    #create new string_n so we don't change original input string\n",
    "    strg_n = strg[:]\n",
    "    #Make all lowercase\n",
    "    strg_n = strg_n.lower()\n",
    "    #replace spaces with non-spaces\n",
    "    strg_n = strg_n.replace(' ' ,'')\n",
    "\n",
    "    #If length of string is <= 1, then it is in alphabetical order\n",
    "    if len(strg_n) <= 1:\n",
    "            return(True)\n",
    "    else:\n",
    "        #loop through length of string\n",
    "        for k in range(0,len(strg_n)-1):\n",
    "                #test if kth element is < k+1 element\n",
    "            if strg_n[k] <= strg_n[k+1]:\n",
    "                #replace string with string without kth element\n",
    "                strg_n = strg_n[k+1:]\n",
    "                #call abecedarian function on new string\n",
    "                return(is_abecedarian(strg_n))\n",
    "            else:\n",
    "                #Once kth element !< k+1, it is not abecedarian\n",
    "                return(False)"
   ]
  },
  {
   "cell_type": "code",
   "execution_count": 92,
   "metadata": {},
   "outputs": [],
   "source": [
    "test = 'A dder'"
   ]
  },
  {
   "cell_type": "code",
   "execution_count": 93,
   "metadata": {},
   "outputs": [
    {
     "data": {
      "text/plain": [
       "True"
      ]
     },
     "execution_count": 93,
     "metadata": {},
     "output_type": "execute_result"
    }
   ],
   "source": [
    "is_abecedarian(test)"
   ]
  },
  {
   "cell_type": "code",
   "execution_count": 94,
   "metadata": {},
   "outputs": [
    {
     "data": {
      "text/plain": [
       "False"
      ]
     },
     "execution_count": 94,
     "metadata": {},
     "output_type": "execute_result"
    }
   ],
   "source": [
    "is_abecedarian('goat')"
   ]
  },
  {
   "cell_type": "markdown",
   "metadata": {},
   "source": [
    "#### 1.3\n",
    "\n",
    "Write a function called count_vowels that takes a single string as an argument and\n",
    "returns a non-negative integer, the number of vowels that appeared in the string.\n",
    "For the purposes of this question, the vowels are the letters “a e i o u”."
   ]
  },
  {
   "cell_type": "code",
   "execution_count": 622,
   "metadata": {},
   "outputs": [],
   "source": [
    "def count_vowels(strg):\n",
    "    strg = strg.lower()\n",
    "    k = 0\n",
    "    for c in strg:\n",
    "        if c == 'a':\n",
    "            k = k + 1\n",
    "        if c == 'e':\n",
    "            k = k + 1\n",
    "        if c == 'i':\n",
    "            k = k + 1\n",
    "        if c == 'o':\n",
    "            k = k + 1\n",
    "        if c == 'u':\n",
    "            k = k +1\n",
    "    return(k)\n",
    "   "
   ]
  },
  {
   "cell_type": "code",
   "execution_count": 626,
   "metadata": {},
   "outputs": [
    {
     "data": {
      "text/plain": [
       "13"
      ]
     },
     "execution_count": 626,
     "metadata": {},
     "output_type": "execute_result"
    }
   ],
   "source": [
    "count_vowels('Goats are the coolest animals ever')"
   ]
  },
  {
   "cell_type": "code",
   "execution_count": 624,
   "metadata": {},
   "outputs": [
    {
     "data": {
      "text/plain": [
       "3"
      ]
     },
     "execution_count": 624,
     "metadata": {},
     "output_type": "execute_result"
    }
   ],
   "source": [
    "count_vowels('bAnaNa')"
   ]
  },
  {
   "cell_type": "markdown",
   "metadata": {},
   "source": [
    "### 2. Fun with Lists\n",
    "\n",
    "#### 2.1\n",
    "\n",
    "Write a function list_reverse that takes a list as an argument and returns that list,\n",
    "reversed."
   ]
  },
  {
   "cell_type": "code",
   "execution_count": 11,
   "metadata": {},
   "outputs": [],
   "source": [
    "def list_reverse(lst):\n",
    "    #Check is input is list\n",
    "    if type(lst) != list:\n",
    "        return ('Opps! Input must be a list!')\n",
    "    \n",
    "    #create empty list\n",
    "    lst_rv = []\n",
    "    #loop through list and append last value to new list\n",
    "    for i in range(1,len(lst)+1):\n",
    "        lst_rv.append(lst[-i])\n",
    "    return(lst_rv)   "
   ]
  },
  {
   "cell_type": "code",
   "execution_count": 12,
   "metadata": {},
   "outputs": [
    {
     "data": {
      "text/plain": [
       "'Opps! Input must be a list!'"
      ]
     },
     "execution_count": 12,
     "metadata": {},
     "output_type": "execute_result"
    }
   ],
   "source": [
    "list_reverse('string')"
   ]
  },
  {
   "cell_type": "code",
   "execution_count": 15,
   "metadata": {},
   "outputs": [],
   "source": [
    "lst1 = ['goat', 1, 3,'apple']"
   ]
  },
  {
   "cell_type": "code",
   "execution_count": 16,
   "metadata": {},
   "outputs": [
    {
     "data": {
      "text/plain": [
       "['apple', 3, 1, 'goat']"
      ]
     },
     "execution_count": 16,
     "metadata": {},
     "output_type": "execute_result"
    }
   ],
   "source": [
    "list_reverse(lst1)"
   ]
  },
  {
   "cell_type": "code",
   "execution_count": 17,
   "metadata": {},
   "outputs": [
    {
     "data": {
      "text/plain": [
       "[3.14, ['goat', 'sheep', 'dog'], 4, 3, 2, 1]"
      ]
     },
     "execution_count": 17,
     "metadata": {},
     "output_type": "execute_result"
    }
   ],
   "source": [
    "list_reverse([1,2,3,4,['goat','sheep','dog'],3.14])"
   ]
  },
  {
   "cell_type": "markdown",
   "metadata": {},
   "source": [
    "#### 2.2 \n",
    "\n",
    "Write a function called binary_search\n",
    "that takes two arguments, a sorted list of integers t and an integer elmt, and returns\n",
    "True if elmt appears in list t and False otherwise"
   ]
  },
  {
   "cell_type": "code",
   "execution_count": 95,
   "metadata": {},
   "outputs": [],
   "source": [
    "def binary_search(t, elmt):\n",
    "    #if length of t = 0, its an empty list, so no elements appear in it\n",
    "    if len(t) == 0:\n",
    "        return(False)\n",
    "    if len(t) <= 2:\n",
    "        if elmt in t:\n",
    "            return(True)\n",
    "        else:\n",
    "            return(False)\n",
    "        #if element = mid-point, returns true\n",
    "    if elmt == t[int(len(t)/2)]:\n",
    "        return(True)\n",
    "    else:\n",
    "        #if element is less than midpoint, search bottom half\n",
    "        if elmt < t[int(len(t)/2)]:\n",
    "            return(binary_search(t[:int(len(t)/2)],elmt))\n",
    "        else:\n",
    "            return(binary_search(t[int(len(t)/2):],elmt))\n",
    "    "
   ]
  },
  {
   "cell_type": "code",
   "execution_count": 96,
   "metadata": {},
   "outputs": [
    {
     "data": {
      "text/plain": [
       "True"
      ]
     },
     "execution_count": 96,
     "metadata": {},
     "output_type": "execute_result"
    }
   ],
   "source": [
    "binary_search([1,2,3,4,5],5)"
   ]
  },
  {
   "cell_type": "code",
   "execution_count": 97,
   "metadata": {},
   "outputs": [],
   "source": [
    "longlist = [0, 1, 1, 2, 3, 5, 8, 13, 21, 34, 55, 89, 144, 233, 377, 610, 987]"
   ]
  },
  {
   "cell_type": "code",
   "execution_count": 98,
   "metadata": {},
   "outputs": [
    {
     "data": {
      "text/plain": [
       "True"
      ]
     },
     "execution_count": 98,
     "metadata": {},
     "output_type": "execute_result"
    }
   ],
   "source": [
    "binary_search(longlist, 987)"
   ]
  },
  {
   "cell_type": "code",
   "execution_count": 99,
   "metadata": {},
   "outputs": [
    {
     "data": {
      "text/plain": [
       "False"
      ]
     },
     "execution_count": 99,
     "metadata": {},
     "output_type": "execute_result"
    }
   ],
   "source": [
    "binary_search(longlist, 500)"
   ]
  },
  {
   "cell_type": "markdown",
   "metadata": {},
   "source": [
    "### 3 More Fun with Strings\n",
    "\n",
    "#### 3.1\n",
    "\n",
    "Write a function called char_hist that takes a string as its argument and returns a\n",
    "dictionary whose keys are characters and values are the number of times each character\n",
    "appeared in the input. "
   ]
  },
  {
   "cell_type": "code",
   "execution_count": 36,
   "metadata": {},
   "outputs": [],
   "source": [
    "#function to count number of times letter appears in string\n",
    "def count(strg, letter):\n",
    "    cnt = 0 \n",
    "    for c in strg:\n",
    "        if c == letter:\n",
    "            cnt = cnt + 1\n",
    "    return(cnt)\n",
    "\n",
    "def char_hist(strg):\n",
    "    strg_new = strg[:]\n",
    "    strg_new = strg_new.lower()\n",
    "    \n",
    "    #empty dictionary\n",
    "    d= {}\n",
    "    for i in strg_new:\n",
    "        #call count fxn and put string and count into dictionary\n",
    "        d[i] = count(strg_new, i)\n",
    "    return(d)\n",
    "        \n",
    "        "
   ]
  },
  {
   "cell_type": "code",
   "execution_count": 44,
   "metadata": {},
   "outputs": [
    {
     "data": {
      "text/plain": [
       "{' ': 2, '?': 1, 'a': 3, 'g': 1, 'o': 2, 't': 4}"
      ]
     },
     "execution_count": 44,
     "metadata": {},
     "output_type": "execute_result"
    }
   ],
   "source": [
    "char_hist('goao tattat ?')"
   ]
  },
  {
   "cell_type": "code",
   "execution_count": 45,
   "metadata": {},
   "outputs": [],
   "source": [
    "x = 'MissiSSiPpi'"
   ]
  },
  {
   "cell_type": "code",
   "execution_count": 46,
   "metadata": {},
   "outputs": [
    {
     "data": {
      "text/plain": [
       "{'i': 4, 'm': 1, 'p': 2, 's': 4}"
      ]
     },
     "execution_count": 46,
     "metadata": {},
     "output_type": "execute_result"
    }
   ],
   "source": [
    "char_hist(x)"
   ]
  },
  {
   "cell_type": "markdown",
   "metadata": {},
   "source": [
    "#### 3.2\n",
    "\n",
    "Write a function called bigram_hist that takes a string as its argument and returns\n",
    "a dictionary whose keys are 2-tuples of characters and values are the number of times\n",
    "that pair of characters appeared in the string"
   ]
  },
  {
   "cell_type": "code",
   "execution_count": 47,
   "metadata": {},
   "outputs": [],
   "source": [
    "def count(strg, letter):\n",
    "    cnt = 0 \n",
    "    for c in strg:\n",
    "        if c == letter:\n",
    "            cnt = cnt + 1\n",
    "    return(cnt)\n",
    "\n",
    "def bigram_hist(strg):\n",
    "    strg_new = strg[:]\n",
    "    strg_new = strg_new.lower()\n",
    "    \n",
    "    #empty dictionary\n",
    "    x = {}\n",
    "    for i in range(0,len(strg_new)-1):\n",
    "        #count for i and i+1 values in string\n",
    "        x[strg_new[i] + strg_new[i+1]] = strg_new.count(strg_new[i] + \n",
    "                                                        strg_new[i+1])\n",
    "    return(x)\n",
    "        "
   ]
  },
  {
   "cell_type": "code",
   "execution_count": 50,
   "metadata": {},
   "outputs": [
    {
     "data": {
      "text/plain": [
       "{' g': 1, 'at': 2, 'go': 2, 'oa': 2, 't ': 1}"
      ]
     },
     "execution_count": 50,
     "metadata": {},
     "output_type": "execute_result"
    }
   ],
   "source": [
    "bigram_hist('goat goat')"
   ]
  },
  {
   "cell_type": "code",
   "execution_count": 52,
   "metadata": {},
   "outputs": [
    {
     "data": {
      "text/plain": [
       "{'ip': 1, 'is': 2, 'mi': 1, 'pi': 1, 'pp': 1, 'si': 2, 'ss': 2}"
      ]
     },
     "execution_count": 52,
     "metadata": {},
     "output_type": "execute_result"
    }
   ],
   "source": [
    "bigram_hist('miSSissippi')"
   ]
  },
  {
   "cell_type": "markdown",
   "metadata": {},
   "source": [
    "### Problem 4\n",
    "\n",
    "#### 4.1\n",
    "Implement a function called vec_scalar_mult, which takes two arguments: a tuple\n",
    "of numbers (floats and/or integers) t and a number (float or integer) s and returns\n",
    "a tuple of the same length as t, with its entries equal to the entries of t multiplied\n",
    "by s."
   ]
  },
  {
   "cell_type": "code",
   "execution_count": 53,
   "metadata": {},
   "outputs": [],
   "source": [
    "#Check in input is a tuple\n",
    "def tuple_check(t):\n",
    "    if type(t) != tuple:\n",
    "        return(False)\n",
    "    else:\n",
    "        return(True)\n",
    "    \n",
    "#Check if elements are integers or floats\n",
    "def ent_check(t):\n",
    "    if type(t) != int and type(t) != float:\n",
    "        return(False)\n",
    "    else:\n",
    "        return(True)"
   ]
  },
  {
   "cell_type": "code",
   "execution_count": 56,
   "metadata": {},
   "outputs": [],
   "source": [
    "#check if elements in tuple are integers or floats\n",
    "def tuple_ent_check(t):\n",
    "    i = 0\n",
    "    while i < len(t):\n",
    "        if ent_check(t[i]) == True:\n",
    "            i = i+1\n",
    "        else:\n",
    "            return(False)\n",
    "   "
   ]
  },
  {
   "cell_type": "code",
   "execution_count": 59,
   "metadata": {},
   "outputs": [],
   "source": [
    "def vec_scalar_mult(t, n):\n",
    "    #Call functions to check inputs are correct\n",
    "    if tuple_check(t) == False:\n",
    "        return('TypeError: first argument must be tuple')\n",
    "    if ent_check(n) == False:\n",
    "        return('Type Error: second argument must be float or integer')\n",
    "    elif tuple_check(t) == True:\n",
    "        if tuple_ent_check(t) == False:\n",
    "            return('Type Error: tuple must contain floats or integers')\n",
    "    #empty list\n",
    "    x = list()\n",
    "    #append n* each element to empty list\n",
    "    for i in t:\n",
    "        x.append(i*n)\n",
    "    #want a tuple to return\n",
    "    xt = tuple(x)\n",
    "    return(xt)"
   ]
  },
  {
   "cell_type": "code",
   "execution_count": 61,
   "metadata": {},
   "outputs": [
    {
     "data": {
      "text/plain": [
       "'Type Error: tuple must contain floats or integers'"
      ]
     },
     "execution_count": 61,
     "metadata": {},
     "output_type": "execute_result"
    }
   ],
   "source": [
    "vec_scalar_mult((1,2,'k'),3)"
   ]
  },
  {
   "cell_type": "code",
   "execution_count": 62,
   "metadata": {},
   "outputs": [
    {
     "data": {
      "text/plain": [
       "(2, 9.12, 6, 6.29, 4)"
      ]
     },
     "execution_count": 62,
     "metadata": {},
     "output_type": "execute_result"
    }
   ],
   "source": [
    "vec_scalar_mult((1,float(4.56),3,3.145, 2), 2)"
   ]
  },
  {
   "cell_type": "markdown",
   "metadata": {},
   "source": [
    "#### 4.2 \n",
    "Implement a function called vec_inner_product which takes two “vectors” (i.e.,\n",
    "tuples of floats) as its inputs and outputs a float corresponding to the inner product\n",
    "of these two vectors"
   ]
  },
  {
   "cell_type": "code",
   "execution_count": 63,
   "metadata": {},
   "outputs": [],
   "source": [
    "def vec_inner_product(v1, v2):\n",
    "    #check input types\n",
    "    if tuple_check(v1) == False or tuple_check(v2) == False:\n",
    "        return('TypeError: arguments must be tuples')\n",
    "    elif tuple_check(v1) == True and tuple_check(v2) == True:\n",
    "        if tuple_ent_check(v1) == False or tuple_ent_check(v2) == False:\n",
    "            return('TypeError: tuples must contain floats or integers')\n",
    "    if len(v1) != len(v2):\n",
    "        return('ValueError: length of tuples must be equal')\n",
    "    \n",
    "    prod = list()\n",
    "    #Loop through both inputs and multiply elements by corresponding elements\n",
    "    for i in range(0,len(v1)):\n",
    "        for j in range(0,len(v2)):\n",
    "            if i == j:\n",
    "                prod.append(v1[i]*v2[j])\n",
    "    #use built in sum function to sum product\n",
    "    s = float(sum(prod))\n",
    "    \n",
    "    return(s)\n",
    "            "
   ]
  },
  {
   "cell_type": "code",
   "execution_count": 64,
   "metadata": {},
   "outputs": [],
   "source": [
    "v1 = (5,6.4,7)\n",
    "v2 = (1,2,3)"
   ]
  },
  {
   "cell_type": "code",
   "execution_count": 65,
   "metadata": {},
   "outputs": [
    {
     "data": {
      "text/plain": [
       "38.8"
      ]
     },
     "execution_count": 65,
     "metadata": {},
     "output_type": "execute_result"
    }
   ],
   "source": [
    "vec_inner_product(v1,v2)"
   ]
  },
  {
   "cell_type": "markdown",
   "metadata": {},
   "source": [
    "#### 4.3\n",
    "\n",
    "Write a function check_valid_mx that takes a single argument and returns a Boolean,\n",
    "which is True if the given argument is a tuple that validly represents a matrix as\n",
    "described above, and returns False otherwise. A valid matrix will be a tuple of\n",
    "tuples such that\n",
    "- Every element of the tuple is itself a tuple,\n",
    "- each of these tuples is the same length, and\n",
    "- every element of each of these tuples is a number (i.e., a float or integer)."
   ]
  },
  {
   "cell_type": "code",
   "execution_count": 66,
   "metadata": {},
   "outputs": [],
   "source": [
    "#function to check length to two inputs are the same\n",
    "def tuple_check_len(t1,t2):\n",
    "    if len(t1) == len(t2):\n",
    "        return(True)\n",
    "    else:\n",
    "        return(False)"
   ]
  },
  {
   "cell_type": "code",
   "execution_count": 67,
   "metadata": {},
   "outputs": [],
   "source": [
    "def check_valid_mx(m):\n",
    "    if tuple_check(m) == False:\n",
    "        return(False)\n",
    "    else:\n",
    "        \n",
    "        for i in m:\n",
    "            if tuple_check(i) == False:\n",
    "                return(False)\n",
    "    \n",
    "        for k in range(0,len(m)-1):\n",
    "            if tuple_check_len(m[k],m[k+1]) == False:\n",
    "                return(False)\n",
    "        \n",
    "        for tup in m:\n",
    "            if tuple_ent_check(tup) == False:\n",
    "                return(False)\n",
    "        \n",
    "        return(True)"
   ]
  },
  {
   "cell_type": "code",
   "execution_count": 74,
   "metadata": {},
   "outputs": [],
   "source": [
    "my_mx = ((1,2,3),(1,2,3))"
   ]
  },
  {
   "cell_type": "code",
   "execution_count": 75,
   "metadata": {},
   "outputs": [
    {
     "data": {
      "text/plain": [
       "True"
      ]
     },
     "execution_count": 75,
     "metadata": {},
     "output_type": "execute_result"
    }
   ],
   "source": [
    "check_valid_mx(my_mx)"
   ]
  },
  {
   "cell_type": "markdown",
   "metadata": {},
   "source": [
    "#### 4.4 \n",
    "Write a function mx_vec_mult that takes a matrix (i.e., tuple of tuples) and a vector\n",
    "(i.e., a tuple) as its arguments, and returns a vector (i.e., a tuple of numbers) that is\n",
    "the result of multiplying the given vector by the given matrix."
   ]
  },
  {
   "cell_type": "code",
   "execution_count": 82,
   "metadata": {},
   "outputs": [],
   "source": [
    "def mx_vec_mult(m, v):\n",
    "    #check inputs are correct\n",
    "    if check_valid_mx(m) == False:\n",
    "        return('TypeError: 1st arg must be matrix')\n",
    "    if tuple_check(v) == False:\n",
    "        return('TypeError: 2nd arg must be tuple')\n",
    "    if tuple_ent_check(v) == False:\n",
    "        return('ValueError: tuple must contain integers or floats')\n",
    "    x = list()\n",
    "    for tup in m:\n",
    "        #use above inner product fxn on each of the tuples in m\n",
    "        x.append(vec_inner_product(tup,v))\n",
    "    t = tuple(x)\n",
    "    return(t)"
   ]
  },
  {
   "cell_type": "code",
   "execution_count": 83,
   "metadata": {},
   "outputs": [
    {
     "data": {
      "text/plain": [
       "(7.5, 7.5)"
      ]
     },
     "execution_count": 83,
     "metadata": {},
     "output_type": "execute_result"
    }
   ],
   "source": [
    "mx_vec_mult(my_mx, (0.5,2.75,.5))"
   ]
  },
  {
   "cell_type": "code",
   "execution_count": 85,
   "metadata": {},
   "outputs": [
    {
     "data": {
      "text/plain": [
       "(3453.8, 1472.0)"
      ]
     },
     "execution_count": 85,
     "metadata": {},
     "output_type": "execute_result"
    }
   ],
   "source": [
    "mx_vec_mult(((100,250,362.3,10),(322,5,4,98)),(2,4,6,8))"
   ]
  }
 ],
 "metadata": {
  "kernelspec": {
   "display_name": "Python 3",
   "language": "python",
   "name": "python3"
  },
  "language_info": {
   "codemirror_mode": {
    "name": "ipython",
    "version": 3
   },
   "file_extension": ".py",
   "mimetype": "text/x-python",
   "name": "python",
   "nbconvert_exporter": "python",
   "pygments_lexer": "ipython3",
   "version": "3.6.4"
  }
 },
 "nbformat": 4,
 "nbformat_minor": 2
}
