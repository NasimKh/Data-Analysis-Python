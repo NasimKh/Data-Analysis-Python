{
 "cells": [
  {
   "cell_type": "markdown",
   "metadata": {},
   "source": [
    "## Stats701 Homework 8, Winter 2018\n",
    "### Structured Data\n",
    "### Katherine Wilkinson\n",
    "#### kswilk@umich.edu\n",
    "\n",
    "I discussed this homework with Sam Edds and Jeahnee Pak"
   ]
  },
  {
   "cell_type": "markdown",
   "metadata": {},
   "source": [
    "### 1. Regular Expressions"
   ]
  },
  {
   "cell_type": "markdown",
   "metadata": {},
   "source": [
    "#### 1.1 Use urllib to open URL http://www.greenteapress.com/thinkpython/code/words.txt and read file"
   ]
  },
  {
   "cell_type": "code",
   "execution_count": 193,
   "metadata": {},
   "outputs": [],
   "source": [
    "import urllib.request\n",
    "\n",
    "##Open file from url\n",
    "file = urllib.request.urlopen('http://www.greenteapress.com/thinkpython/code/words.txt')\n"
   ]
  },
  {
   "cell_type": "code",
   "execution_count": 194,
   "metadata": {},
   "outputs": [],
   "source": [
    "##Read lines from file and decode each line\n",
    "page = []\n",
    "for line in file:\n",
    "    x= line.decode()\n",
    "    page.append(x)\n",
    "\n",
    "#Each line is a single word. \n",
    "#Strip off \\r\\n at end of word and append to list\n",
    "words = []\n",
    "for s in page:\n",
    "    y = s.rstrip()\n",
    "    words.append(y)\n",
    "    "
   ]
  },
  {
   "cell_type": "code",
   "execution_count": 195,
   "metadata": {},
   "outputs": [
    {
     "data": {
      "text/plain": [
       "113809"
      ]
     },
     "execution_count": 195,
     "metadata": {},
     "output_type": "execute_result"
    }
   ],
   "source": [
    "## How many words are in the file? \n",
    "len(words)"
   ]
  },
  {
   "cell_type": "markdown",
   "metadata": {},
   "source": [
    "#### 1.2 Does the Data make sense??\n",
    "\n",
    "The data does seem to make sense. The page is a list of words that all appear to be formated well with no of place symbols such as punctutation or hyphens. Everything is in alphabetical order and nothing in particular jumps out. "
   ]
  },
  {
   "cell_type": "markdown",
   "metadata": {},
   "source": [
    "#### 1.3 \n",
    "How many words from the list start with exactly 4 consecutive consonants??\n",
    "That is, not a, e, i, o, u, y. "
   ]
  },
  {
   "cell_type": "code",
   "execution_count": 198,
   "metadata": {},
   "outputs": [],
   "source": [
    "#Import regular expressions package\n",
    "import re"
   ]
  },
  {
   "cell_type": "code",
   "execution_count": 199,
   "metadata": {},
   "outputs": [
    {
     "data": {
      "text/plain": [
       "57"
      ]
     },
     "execution_count": 199,
     "metadata": {},
     "output_type": "execute_result"
    }
   ],
   "source": [
    "##Start with exactly 4 consecutive non-vowels\n",
    "rc = re.compile(r'^[^aeiouy]{4}[aeiouy]+\\w*')\n",
    "consonants =[]\n",
    "\n",
    "for i in words:\n",
    "    if len(rc.findall(i)) != 0:\n",
    "        consonants.append(i)\n",
    "\n",
    "#Number of words with exactly 4 consecutive non-vowels\n",
    "len(consonants)"
   ]
  },
  {
   "cell_type": "markdown",
   "metadata": {},
   "source": [
    "#### 1.4\n",
    "How many words contain at least four instances of the letter a (not necessarily\n",
    "consecutive)?"
   ]
  },
  {
   "cell_type": "code",
   "execution_count": 338,
   "metadata": {},
   "outputs": [
    {
     "data": {
      "text/plain": [
       "50"
      ]
     },
     "execution_count": 338,
     "metadata": {},
     "output_type": "execute_result"
    }
   ],
   "source": [
    "ra = re.compile(r'^\\w*a+\\w*a+\\w*a+\\w*a+\\w*')\n",
    "\n",
    "a_list = []\n",
    "\n",
    "for i in words:\n",
    "    if len(ra.findall(i)) != 0:\n",
    "        a_list.append(i)\n",
    "\n",
    "## How many words have at least 4 a's?\n",
    "len(a_list)\n"
   ]
  },
  {
   "cell_type": "markdown",
   "metadata": {},
   "source": [
    "#### 1.5\n",
    "How many words begin and end with a vowel with only consonants in between?\n",
    "For the purposes of this specific problem, y is neither consonant nor vowel, so\n",
    "consonants are the 20 letters that are not one of a, e, i, o, u, y and vowels are\n",
    "a, e, i, o, u. The words need not begin and end with the same vowel, so angle\n",
    "is a valid match."
   ]
  },
  {
   "cell_type": "code",
   "execution_count": 340,
   "metadata": {},
   "outputs": [
    {
     "data": {
      "text/plain": [
       "169"
      ]
     },
     "execution_count": 340,
     "metadata": {},
     "output_type": "execute_result"
    }
   ],
   "source": [
    "r = re.compile(r'\\b^[aeiou][^aeiouy]*[aeiou]$')\n",
    "vcv = []\n",
    "for i in words:\n",
    "    if len(r.findall(i)) != 0:\n",
    "        vcv.append(i)\n",
    "##Number of words that begin and end with a vowel\n",
    "##Includes words such as aa, that consist of only vowels\n",
    "len(vcv)\n",
    "\n"
   ]
  },
  {
   "cell_type": "markdown",
   "metadata": {},
   "source": [
    "#### 1.6 \n",
    " How many words start and end with the same two-letter sequence? Hint: be careful\n",
    "of the edge cases in which the word is length 2 or 3.\n",
    "\n"
   ]
  },
  {
   "cell_type": "code",
   "execution_count": 306,
   "metadata": {},
   "outputs": [
    {
     "data": {
      "text/plain": [
       "366"
      ]
     },
     "execution_count": 306,
     "metadata": {},
     "output_type": "execute_result"
    }
   ],
   "source": [
    "#back referencing\n",
    "r_same = re.compile(r'^([a-z]{2})\\w*(\\1)$')\n",
    "\n",
    "be_same = []\n",
    "for i in words:\n",
    "    #If length of word ==2, it follows rules\n",
    "    if len(i) == 2:\n",
    "        be_same.append(i)\n",
    "    #If length of word ==3, all letters must be the same\n",
    "    elif len(i) == 3:\n",
    "        l = list(i)\n",
    "        if l[0] == l[1] == l[2]:\n",
    "            be_same.append(i)\n",
    "    else:\n",
    "        \n",
    "        x = r_same.search(i)\n",
    "        if x is not None:\n",
    "            be_same.append(i)\n",
    "\n",
    "##Number of words that start and end with same two-letter sequence\n",
    "len(be_same)"
   ]
  },
  {
   "cell_type": "markdown",
   "metadata": {},
   "source": [
    "### 2. Exploring Internet Traffic with Regexes"
   ]
  },
  {
   "cell_type": "markdown",
   "metadata": {},
   "source": [
    "#### 2.1 \n",
    "Download the file from the URL above (or use urllib or requests to open it\n",
    "directly, being careful to convert the raw bytes back to UTF-8) and read its contents\n",
    "into a string. Each line of this file corresponds to a single packet sent over the\n",
    "internet. How many packets are in this file?"
   ]
  },
  {
   "cell_type": "code",
   "execution_count": 341,
   "metadata": {},
   "outputs": [],
   "source": [
    "skype_file = urllib.request.urlopen('http://www-personal.umich.edu/~klevin/teaching/Winter2018/STATS701/SkypeIRC.txt')"
   ]
  },
  {
   "cell_type": "code",
   "execution_count": 309,
   "metadata": {},
   "outputs": [],
   "source": [
    "skypeIRC = []\n",
    "for line in skype_file:\n",
    "    x= line.decode('utf-8')\n",
    "    skypeIRC.append(x)\n",
    "    \n",
    "skype = []\n",
    "for s in skypeIRC:\n",
    "    y = s.rstrip()\n",
    "    skype.append(y)"
   ]
  },
  {
   "cell_type": "code",
   "execution_count": 310,
   "metadata": {},
   "outputs": [
    {
     "data": {
      "text/plain": [
       "2263"
      ]
     },
     "execution_count": 310,
     "metadata": {},
     "output_type": "execute_result"
    }
   ],
   "source": [
    "##How many packets are in this file?\n",
    "len(skype)"
   ]
  },
  {
   "cell_type": "markdown",
   "metadata": {},
   "source": [
    "#### 2.2\n",
    "Use regular expressions to extract all IP addresses from the file and collect in Python list. "
   ]
  },
  {
   "cell_type": "code",
   "execution_count": 345,
   "metadata": {},
   "outputs": [],
   "source": [
    "## IP addresses are in format A.B.C.D \n",
    "##where A, B, C, and D are numbers between 0 and 255\n",
    "ipr = re.compile(r'\\b\\d{1,3}\\.\\d{1,3}\\.\\d{1,3}\\.\\d{1,3}\\b')\n",
    "#ipr = re.compile(r'\\b\\d+\\.\\d+\\.\\d+\\.\\d+\\b')\n",
    "\n",
    "\n",
    "ip = []\n",
    "for i in skype:\n",
    "    if len(ipr.findall(i)) != 0:\n",
    "        for j in ipr.findall(i):\n",
    "            ip.append(j)\n",
    "        \n",
    "     "
   ]
  },
  {
   "cell_type": "code",
   "execution_count": 346,
   "metadata": {},
   "outputs": [
    {
     "data": {
      "text/plain": [
       "368"
      ]
     },
     "execution_count": 346,
     "metadata": {},
     "output_type": "execute_result"
    }
   ],
   "source": [
    "##Number of unique IP addresses in data set\n",
    "len(set(ip))"
   ]
  },
  {
   "cell_type": "markdown",
   "metadata": {},
   "source": [
    "#### 2.3\n",
    "Use regular expressions to construct a list of all Comcast.Net server names. How many unique servers appear in the list?"
   ]
  },
  {
   "cell_type": "code",
   "execution_count": 350,
   "metadata": {},
   "outputs": [
    {
     "data": {
      "text/plain": [
       "25"
      ]
     },
     "execution_count": 350,
     "metadata": {},
     "output_type": "execute_result"
    }
   ],
   "source": [
    "serv_match = re.compile(r'\\b([\\-\\w\\.]*)\\.(comcast\\.net)')\n",
    "\n",
    "comcast_r = re.compile(r'\\b.*comcast\\.net\\b')\n",
    "\n",
    "#First pull out all instances with comcast.net\n",
    "comcast = []\n",
    "len(comcast_r.findall(test))\n",
    "for i in skype:\n",
    "    if len(comcast_r.findall(i)) != 0:\n",
    "        comcast.append(i)\n",
    "\n",
    "##Go through all comcast.net instances and pull out server names\n",
    "comcast_serv = []\n",
    "\n",
    "for i in comcast:\n",
    "    s = serv_match.search(i)\n",
    "    comcast_serv.append(s.group(1))\n",
    "\n",
    "## Unique number of servers\n",
    "len(set(comcast_serv))"
   ]
  },
  {
   "cell_type": "markdown",
   "metadata": {},
   "source": [
    "#### 2.4\n",
    "Create a plot displaying how many packets appeared in each second of the recording. "
   ]
  },
  {
   "cell_type": "code",
   "execution_count": 321,
   "metadata": {},
   "outputs": [
    {
     "data": {
      "text/plain": [
       "['28.843010']"
      ]
     },
     "execution_count": 321,
     "metadata": {},
     "output_type": "execute_result"
    }
   ],
   "source": [
    "time_r = re.compile(r'\\b\\d+\\.\\d{6}')\n",
    "\n",
    "time_r.findall(test)"
   ]
  },
  {
   "cell_type": "code",
   "execution_count": 352,
   "metadata": {},
   "outputs": [
    {
     "data": {
      "image/png": "[encoded data removed]",
      "text/plain": [
       "<matplotlib.figure.Figure at 0x10cd90a90>"
      ]
     },
     "metadata": {},
     "output_type": "display_data"
    }
   ],
   "source": [
    "## First pull out each time stamp and round to nearest second\n",
    "time_r = re.compile(r'\\b\\d+\\.\\d{6}')\n",
    "time = []\n",
    "\n",
    "for i in skype:\n",
    "    t = time_r.findall(i)\n",
    "    for j in t:\n",
    "        \n",
    "        time.append(round(float(j)))\n",
    "        \n",
    "import numpy as np\n",
    "import matplotlib.pyplot as plt\n",
    "\n",
    "##Plot time stamp by number of occurences in a histogram\n",
    "plt.hist(time, edgecolor = 'purple')\n",
    "plt.xlabel('Time Stamp')\n",
    "plt.ylabel('Number of Packets')\n",
    "_= plt.show()"
   ]
  },
  {
   "cell_type": "markdown",
   "metadata": {},
   "source": [
    "### 3 Retrieving Data from the Web"
   ]
  },
  {
   "cell_type": "markdown",
   "metadata": {},
   "source": [
    "#### 3.1\n",
    "Read in wikipedia page and find node in BeautifulSoub object corresponding to Climate data table. "
   ]
  },
  {
   "cell_type": "code",
   "execution_count": 353,
   "metadata": {},
   "outputs": [],
   "source": [
    "## First import data from URL and parse with BeautifulSoup\n",
    "from bs4 import BeautifulSoup\n",
    "wiki_bend = urllib.request.urlopen('https://en.wikipedia.org/wiki/Bend,_Oregon')\n",
    "parsed_bend = BeautifulSoup(wiki_bend, 'html.parser')\n",
    "#print(parsed_bend.prettify())"
   ]
  },
  {
   "cell_type": "code",
   "execution_count": 355,
   "metadata": {},
   "outputs": [],
   "source": [
    "climate_tb = parsed_bend.find('th', text = re.compile(r'Climate data for'))\n",
    "#tf = climate_tb is None\n",
    "cb_tb = climate_tb.find_parent('table')"
   ]
  },
  {
   "cell_type": "code",
   "execution_count": 382,
   "metadata": {},
   "outputs": [
    {
     "data": {
      "text/plain": [
       "['\\n', <tr>\n",
       " <th colspan=\"14\">Climate data for Bend, Oregon (1981–2010 normals)</th>\n",
       " </tr>, '\\n', <tr>\n",
       " <th scope=\"row\">Month</th>\n",
       " <th scope=\"col\">Jan</th>\n",
       " <th scope=\"col\">Feb</th>\n",
       " <th scope=\"col\">Mar</th>\n",
       " <th scope=\"col\">Apr</th>\n",
       " <th scope=\"col\">May</th>\n",
       " <th scope=\"col\">Jun</th>\n",
       " <th scope=\"col\">Jul</th>\n",
       " <th scope=\"col\">Aug</th>\n",
       " <th scope=\"col\">Sep</th>\n",
       " <th scope=\"col\">Oct</th>\n",
       " <th scope=\"col\">Nov</th>\n",
       " <th scope=\"col\">Dec</th>\n",
       " <th scope=\"col\" style=\"border-left-width:medium\">Year</th>\n",
       " </tr>, '\\n', <tr style=\"text-align: center;\">\n",
       " <th scope=\"row\" style=\"height: 16px;\">Record high °F (°C)</th>\n",
       " <td style=\"background: #FF9B37; color:#000000;\">67<br/>\n",
       " (19)</td>\n",
       " <td style=\"background: #FF7800; color:#000000;\">76<br/>\n",
       " (24)</td>\n",
       " <td style=\"background: #FF5D00; color:#000000;\">83<br/>\n",
       " (28)</td>\n",
       " <td style=\"background: #FF3300; color:#000000;\">93<br/>\n",
       " (34)</td>\n",
       " <td style=\"background: #FF3300; color:#000000;\">93<br/>\n",
       " (34)</td>\n",
       " <td style=\"background: #FF1800; color:#FFFFFF;\">100<br/>\n",
       " (38)</td>\n",
       " <td style=\"background: #FF0A00; color:#FFFFFF;\">104<br/>\n",
       " (40)</td>\n",
       " <td style=\"background: #FF0300; color:#FFFFFF;\">106<br/>\n",
       " (41)</td>\n",
       " <td style=\"background: #FF1800; color:#FFFFFF;\">100<br/>\n",
       " (38)</td>\n",
       " <td style=\"background: #FF3A00; color:#000000;\">91<br/>\n",
       " (33)</td>\n",
       " <td style=\"background: #FF7100; color:#000000;\">77<br/>\n",
       " (25)</td>\n",
       " <td style=\"background: #FF8D1B; color:#000000;\">69<br/>\n",
       " (21)</td>\n",
       " <td style=\"background: #FF0300; color:#FFFFFF; border-left-width:medium\">106<br/>\n",
       " (41)</td>\n",
       " </tr>, '\\n', <tr style=\"text-align: center;\">\n",
       " <th scope=\"row\" style=\"height: 16px;\">Average high °F (°C)</th>\n",
       " <td style=\"background: #FFFAF6; color:#000000;\">41.1<br/>\n",
       " (5.1)</td>\n",
       " <td style=\"background: #FFEFDF; color:#000000;\">44.3<br/>\n",
       " (6.8)</td>\n",
       " <td style=\"background: #FFD4AA; color:#000000;\">51.0<br/>\n",
       " (10.6)</td>\n",
       " <td style=\"background: #FFBF80; color:#000000;\">56.7<br/>\n",
       " (13.7)</td>\n",
       " <td style=\"background: #FFA143; color:#000000;\">64.6<br/>\n",
       " (18.1)</td>\n",
       " <td style=\"background: #FF8308; color:#000000;\">72.3<br/>\n",
       " (22.4)</td>\n",
       " <td style=\"background: #FF6000; color:#000000;\">81.5<br/>\n",
       " (27.5)</td>\n",
       " <td style=\"background: #FF6100; color:#000000;\">81.3<br/>\n",
       " (27.4)</td>\n",
       " <td style=\"background: #FF7E00; color:#000000;\">73.5<br/>\n",
       " (23.1)</td>\n",
       " <td style=\"background: #FFAB58; color:#000000;\">61.9<br/>\n",
       " (16.6)</td>\n",
       " <td style=\"background: #FFE3C7; color:#000000;\">47.3<br/>\n",
       " (8.5)</td>\n",
       " <td style=\"background: #FCFCFF; color:#000000;\">39.4<br/>\n",
       " (4.1)</td>\n",
       " <td style=\"background: #FFB469; color:#000000; border-left-width:medium\">59.58<br/>\n",
       " (15.32)</td>\n",
       " </tr>, '\\n', <tr style=\"text-align: center;\">\n",
       " <th scope=\"row\" style=\"height: 16px;\">Average low °F (°C)</th>\n",
       " <td style=\"background: #CFCFFF; color:#000000;\">24.3<br/>\n",
       " (−4.3)</td>\n",
       " <td style=\"background: #CFCFFF; color:#000000;\">24.2<br/>\n",
       " (−4.3)</td>\n",
       " <td style=\"background: #D9D9FF; color:#000000;\">27.5<br/>\n",
       " (−2.5)</td>\n",
       " <td style=\"background: #E1E1FF; color:#000000;\">30.4<br/>\n",
       " (−0.9)</td>\n",
       " <td style=\"background: #F3F3FF; color:#000000;\">36.3<br/>\n",
       " (2.4)</td>\n",
       " <td style=\"background: #FFF8F1; color:#000000;\">41.9<br/>\n",
       " (5.5)</td>\n",
       " <td style=\"background: #FFE2C6; color:#000000;\">47.5<br/>\n",
       " (8.6)</td>\n",
       " <td style=\"background: #FFE7D0; color:#000000;\">46.3<br/>\n",
       " (7.9)</td>\n",
       " <td style=\"background: #FDFDFF; color:#000000;\">39.5<br/>\n",
       " (4.2)</td>\n",
       " <td style=\"background: #E8E8FF; color:#000000;\">32.8<br/>\n",
       " (0.4)</td>\n",
       " <td style=\"background: #DADAFF; color:#000000;\">27.9<br/>\n",
       " (−2.3)</td>\n",
       " <td style=\"background: #CACAFF; color:#000000;\">22.7<br/>\n",
       " (−5.2)</td>\n",
       " <td style=\"background: #EAEAFF; color:#000000; border-left-width:medium\">33.44<br/>\n",
       " (0.79)</td>\n",
       " </tr>, '\\n', <tr style=\"text-align: center;\">\n",
       " <th scope=\"row\" style=\"height: 16px;\">Record low °F (°C)</th>\n",
       " <td style=\"background: #3A3AFF; color:#FFFFFF;\">−26<br/>\n",
       " (−32)</td>\n",
       " <td style=\"background: #3A3AFF; color:#FFFFFF;\">−26<br/>\n",
       " (−32)</td>\n",
       " <td style=\"background: #5F5FFF; color:#FFFFFF;\">−13<br/>\n",
       " (−25)</td>\n",
       " <td style=\"background: #A0A0FF; color:#000000;\">8<br/>\n",
       " (−13)</td>\n",
       " <td style=\"background: #A5A5FF; color:#000000;\">11<br/>\n",
       " (−12)</td>\n",
       " <td style=\"background: #C6C6FF; color:#000000;\">21<br/>\n",
       " (−6)</td>\n",
       " <td style=\"background: #D6D6FF; color:#000000;\">27<br/>\n",
       " (−3)</td>\n",
       " <td style=\"background: #C6C6FF; color:#000000;\">22<br/>\n",
       " (−6)</td>\n",
       " <td style=\"background: #ABABFF; color:#000000;\">12<br/>\n",
       " (−11)</td>\n",
       " <td style=\"background: #8585FF; color:#000000;\">0<br/>\n",
       " (−18)</td>\n",
       " <td style=\"background: #5A5AFF; color:#FFFFFF;\">−14<br/>\n",
       " (−26)</td>\n",
       " <td style=\"background: #3A3AFF; color:#FFFFFF;\">−25<br/>\n",
       " (−32)</td>\n",
       " <td style=\"background: #3A3AFF; color:#FFFFFF; border-left-width:medium\">−26<br/>\n",
       " (−32)</td>\n",
       " </tr>, '\\n', <tr style=\"text-align: center;\">\n",
       " <th scope=\"row\" style=\"height: 16px;\">Average <a href=\"/wiki/Precipitation\" title=\"Precipitation\">precipitation</a> inches (mm)</th>\n",
       " <td style=\"background: #C8FFC8; color:#000000;\">1.45<br/>\n",
       " (36.8)</td>\n",
       " <td style=\"background: #CFFFCF; color:#000000;\">1.13<br/>\n",
       " (28.7)</td>\n",
       " <td style=\"background: #E3FFE3; color:#000000;\">.72<br/>\n",
       " (18.3)</td>\n",
       " <td style=\"background: #E3FFE3; color:#000000;\">.70<br/>\n",
       " (17.8)</td>\n",
       " <td style=\"background: #DDFFDD; color:#000000;\">.88<br/>\n",
       " (22.4)</td>\n",
       " <td style=\"background: #E0FFE0; color:#000000;\">.77<br/>\n",
       " (19.6)</td>\n",
       " <td style=\"background: #EAFFEA; color:#000000;\">.55<br/>\n",
       " (14)</td>\n",
       " <td style=\"background: #ECFFEC; color:#000000;\">.48<br/>\n",
       " (12.2)</td>\n",
       " <td style=\"background: #EEFFEE; color:#000000;\">.41<br/>\n",
       " (10.4)</td>\n",
       " <td style=\"background: #E8FFE8; color:#000000;\">.60<br/>\n",
       " (15.2)</td>\n",
       " <td style=\"background: #C8FFC8; color:#000000;\">1.39<br/>\n",
       " (35.3)</td>\n",
       " <td style=\"background: #ADFFAD; color:#000000;\">2.14<br/>\n",
       " (54.4)</td>\n",
       " <td style=\"background: #DAFFDA; color:#000000; border-left-width:medium\">11.21<br/>\n",
       " (284.7)</td>\n",
       " </tr>, '\\n', <tr style=\"text-align: center;\">\n",
       " <th scope=\"row\" style=\"height: 16px;\">Average snowfall inches (cm)</th>\n",
       " <td style=\"background: #1010FF; color:#FFFFFF;\">6.3<br/>\n",
       " (16)</td>\n",
       " <td style=\"background: #1414FF; color:#FFFFFF;\">5.6<br/>\n",
       " (14.2)</td>\n",
       " <td style=\"background: #D5D5FF; color:#000000;\">1.1<br/>\n",
       " (2.8)</td>\n",
       " <td style=\"background: #EFEFFF; color:#000000;\">.4<br/>\n",
       " (1)</td>\n",
       " <td style=\"background: #FFFFFF; color:#000000;\">0<br/>\n",
       " (0)</td>\n",
       " <td style=\"background: #FFFFFF; color:#000000;\">0<br/>\n",
       " (0)</td>\n",
       " <td style=\"background: #FFFFFF; color:#000000;\">0<br/>\n",
       " (0)</td>\n",
       " <td style=\"background: #FFFFFF; color:#000000;\">0<br/>\n",
       " (0)</td>\n",
       " <td style=\"background: #FFFFFF; color:#000000;\">0<br/>\n",
       " (0)</td>\n",
       " <td style=\"background: #F7F7FF; color:#000000;\">.2<br/>\n",
       " (0.5)</td>\n",
       " <td style=\"background: #A1A1FF; color:#000000;\">2.4<br/>\n",
       " (6.1)</td>\n",
       " <td style=\"background: #0000D9; color:#FFFFFF;\">7.7<br/>\n",
       " (19.6)</td>\n",
       " <td style=\"background: #B2B2FF; color:#000000; border-left-width:medium\">23.8<br/>\n",
       " (60.5)</td>\n",
       " </tr>, '\\n', <tr style=\"text-align: center;\">\n",
       " <th scope=\"row\" style=\"height: 16px;\">Average precipitation days</th>\n",
       " <td style=\"background: #9191FF; color:#000000;\">8.9</td>\n",
       " <td style=\"background: #9191FF; color:#000000;\">8.0</td>\n",
       " <td style=\"background: #AEAEFF; color:#000000;\">6.5</td>\n",
       " <td style=\"background: #ADADFF; color:#000000;\">6.4</td>\n",
       " <td style=\"background: #B9B9FF; color:#000000;\">5.6</td>\n",
       " <td style=\"background: #C4C4FF; color:#000000;\">4.6</td>\n",
       " <td style=\"background: #D8D8FF; color:#000000;\">3.1</td>\n",
       " <td style=\"background: #DCDCFF; color:#000000;\">2.8</td>\n",
       " <td style=\"background: #D7D7FF; color:#000000;\">3.1</td>\n",
       " <td style=\"background: #CBCBFF; color:#000000;\">4.2</td>\n",
       " <td style=\"background: #8E8EFF; color:#000000;\">8.8</td>\n",
       " <td style=\"background: #8686FF; color:#000000;\">9.8</td>\n",
       " <td style=\"background: #B3B3FF; color:#000000; border-left-width:medium\">71.7</td>\n",
       " </tr>, '\\n', <tr style=\"text-align: center;\">\n",
       " <th scope=\"row\" style=\"height: 16px;\">Average snowy days</th>\n",
       " <td style=\"background: #D2D2FF; color:#000000;\">3.6</td>\n",
       " <td style=\"background: #D1D1FF; color:#000000;\">3.3</td>\n",
       " <td style=\"background: #F1F1FF; color:#000000;\">1.1</td>\n",
       " <td style=\"background: #F9F9FF; color:#000000;\">.4</td>\n",
       " <td style=\"background: #FFFFFF; color:#000000;\">0</td>\n",
       " <td style=\"background: #FFFFFF; color:#000000;\">0</td>\n",
       " <td style=\"background: #FFFFFF; color:#000000;\">0</td>\n",
       " <td style=\"background: #FFFFFF; color:#000000;\">0</td>\n",
       " <td style=\"background: #FFFFFF; color:#000000;\">0</td>\n",
       " <td style=\"background: #FCFCFF; color:#000000;\">.2</td>\n",
       " <td style=\"background: #E6E6FF; color:#000000;\">1.9</td>\n",
       " <td style=\"background: #CBCBFF; color:#000000;\">4.2</td>\n",
       " <td style=\"background: #EFEFFF; color:#000000; border-left-width:medium\">14.6</td>\n",
       " </tr>, '\\n', <tr>\n",
       " <td colspan=\"14\" style=\"text-align:center;font-size:95%;\">Source: NOAA (extremes 1901–present)<sup class=\"reference\" id=\"cite_ref-NOAA_19-4\"><a href=\"#cite_note-NOAA-19\">[19]</a></sup></td>\n",
       " </tr>, '\\n']"
      ]
     },
     "execution_count": 382,
     "metadata": {},
     "output_type": "execute_result"
    }
   ],
   "source": [
    "children = cb_tb.children\n",
    "children_lst = []\n",
    "for child in children:\n",
    "    children_lst.append(child)\n",
    "len(children_lst)\n",
    "children_lst"
   ]
  },
  {
   "cell_type": "markdown",
   "metadata": {},
   "source": [
    "This table is a wikitable that is collapsible. It has 23 children with various different tags. The tags are $th$, $td$ and $tr$ tags. The $tr$ tags are used to define a new row while the $th$ tags are for the table header, including row names. The table cells are under the $td$ tags.  "
   ]
  },
  {
   "cell_type": "markdown",
   "metadata": {},
   "source": [
    "#### 3.2\n",
    "Write a function retrieve_climate_table that takes a Wikipedia URL and returns a BeatifulSoub object that corresponds to the climate data table if it exists. "
   ]
  },
  {
   "cell_type": "code",
   "execution_count": 373,
   "metadata": {},
   "outputs": [],
   "source": [
    "def retrieve_climate_table(wiki_url):\n",
    "    from bs4 import BeautifulSoup\n",
    "    try:\n",
    "        wiki = urllib.request.urlopen(wiki_url)\n",
    "    except:\n",
    "        raise NameError('Could not open input URL')\n",
    "    #Do a try statement to make sure this works\n",
    "    parsed = BeautifulSoup(wiki, 'html.parser')\n",
    "    tag = parsed.find('th', text = re.compile(r'Climate data for'))\n",
    "    tf = tag is None\n",
    "    if tf == True:\n",
    "        return('None')\n",
    "        \n",
    "    cl_tb = tag.find_parent('table')\n",
    "    return(cl_tb)"
   ]
  },
  {
   "cell_type": "code",
   "execution_count": 169,
   "metadata": {},
   "outputs": [],
   "source": [
    "bend_clb_tb = retrieve_climate_table('https://en.wikipedia.org/wiki/Bend,_Oregon')"
   ]
  },
  {
   "cell_type": "code",
   "execution_count": 375,
   "metadata": {},
   "outputs": [],
   "source": [
    "la_clb_tb = retrieve_climate_table('https://en.wikipedia.org/wiki/Los_Angeles')\n"
   ]
  },
  {
   "cell_type": "markdown",
   "metadata": {},
   "source": [
    "#### 3.3\n",
    "Write a function list_climate_table_row_names that again takes a Wikipedia URL and returns a list of row names of the climate data table. "
   ]
  },
  {
   "cell_type": "code",
   "execution_count": 378,
   "metadata": {},
   "outputs": [],
   "source": [
    "def list_climate_table_row_names(wiki_url):\n",
    "    clb_tb = retrieve_climate_table(wiki_url)\n",
    "    rws = la_clb_tb.findAll('th', scope = \"row\")\n",
    "\n",
    "    rws_tb = []\n",
    "    for r in rws:\n",
    "    \n",
    "        rws_tb.append(r.get_text())\n",
    "\n",
    "    return(rws_tb)"
   ]
  },
  {
   "cell_type": "code",
   "execution_count": 381,
   "metadata": {},
   "outputs": [],
   "source": [
    "hy_names = list_climate_table_row_names('https://en.wikipedia.org/wiki/Hyderabad')"
   ]
  },
  {
   "cell_type": "markdown",
   "metadata": {},
   "source": [
    "#### 3.4\n",
    "Describe how you would write a function that takes a URL and a row name and retrieves the data from the row of the climate data table.\n",
    "\n",
    "\n",
    "To begin with, we should call our original function to pull up the Climate Data table. From there we could find the tags that match the scope = 'row' and then specify to match the text of that row to be the given input row name. We should then be able to pull the td tags corresponding to this row and pull the text from these tags. "
   ]
  },
  {
   "cell_type": "markdown",
   "metadata": {},
   "source": [
    "### 4. Relational Databases and SQL"
   ]
  },
  {
   "cell_type": "markdown",
   "metadata": {},
   "source": [
    "#### 4.1 \n",
    "How many tables are in the Chinook_Sqlite database??\n",
    "\n",
    "11\n",
    "\n",
    "#### 4.2\n",
    "What are the names of the tables in the database?\n",
    "\n",
    "- Album, Artist, Customer, Employee, Genre, Invoice, InvoiceLine, MediaType, Playlist, PlaylistTrack, Track"
   ]
  },
  {
   "cell_type": "code",
   "execution_count": 450,
   "metadata": {},
   "outputs": [],
   "source": [
    "import sqlite3 as sq"
   ]
  },
  {
   "cell_type": "code",
   "execution_count": 451,
   "metadata": {},
   "outputs": [],
   "source": [
    "##connect database\n",
    "db = sq.connect('Chinook_Sqlite.sqlite')\n",
    "c = db.cursor()\n"
   ]
  },
  {
   "cell_type": "code",
   "execution_count": 452,
   "metadata": {},
   "outputs": [],
   "source": [
    "names = c.execute(\"SELECT name FROM sqlite_master WHERE type = 'table';\")"
   ]
  },
  {
   "cell_type": "code",
   "execution_count": 453,
   "metadata": {},
   "outputs": [
    {
     "data": {
      "text/plain": [
       "11"
      ]
     },
     "execution_count": 453,
     "metadata": {},
     "output_type": "execute_result"
    }
   ],
   "source": [
    "name_lst = []\n",
    "for name in names:\n",
    "    name_lst.append(name[0])\n",
    "    \n",
    "## number of tables in database\n",
    "len(name_lst)"
   ]
  },
  {
   "cell_type": "code",
   "execution_count": 447,
   "metadata": {},
   "outputs": [
    {
     "data": {
      "text/plain": [
       "['Album',\n",
       " 'Artist',\n",
       " 'Customer',\n",
       " 'Employee',\n",
       " 'Genre',\n",
       " 'Invoice',\n",
       " 'InvoiceLine',\n",
       " 'MediaType',\n",
       " 'Playlist',\n",
       " 'PlaylistTrack',\n",
       " 'Track']"
      ]
     },
     "execution_count": 447,
     "metadata": {},
     "output_type": "execute_result"
    }
   ],
   "source": [
    "\n",
    "## name of tables in database\n",
    "name_lst"
   ]
  },
  {
   "cell_type": "code",
   "execution_count": 448,
   "metadata": {},
   "outputs": [
    {
     "data": {
      "text/plain": [
       "['AlbumId', 'Title', 'ArtistId']"
      ]
     },
     "execution_count": 448,
     "metadata": {},
     "output_type": "execute_result"
    }
   ],
   "source": [
    "c.execute(\"SELECT * from Album\")\n",
    "#Column names of Album table\n",
    "[desc[0] for desc in c.description]"
   ]
  },
  {
   "cell_type": "markdown",
   "metadata": {},
   "source": [
    "#### 4.3\n",
    "Write a function list_album_ids_by_letter that takes an agrument a single character and returns a list of the primary keys of all the albums whose titles start with that character. "
   ]
  },
  {
   "cell_type": "code",
   "execution_count": 393,
   "metadata": {},
   "outputs": [],
   "source": [
    "def list_album_ids_by_letter(character):\n",
    "    #alb_key = c.execute('SELECT AlbumId from Album where')\n",
    "    a_name = c.execute('SELECT Title, AlbumId from Album')\n",
    "    albm_name = []\n",
    "    albm_by_id = []\n",
    "    chrct = character.upper()\n",
    "    for n in a_name:\n",
    "        albm_name.append(n)\n",
    "    \n",
    "    for i in range(0,len(albm_name)):\n",
    "        name = ((albm_name[i][0]).upper())\n",
    "        if (name).startswith(chrct) == True:\n",
    "            albm_by_id.append(albm_name[i][1])\n",
    "    return(albm_by_id)\n",
    "##What does he mean by primary keys??"
   ]
  },
  {
   "cell_type": "code",
   "execution_count": 395,
   "metadata": {},
   "outputs": [
    {
     "data": {
      "text/plain": [
       "23"
      ]
     },
     "execution_count": 395,
     "metadata": {},
     "output_type": "execute_result"
    }
   ],
   "source": [
    "#How many albums are there in the database with titles starting with C?\n",
    "albm_c = list_album_ids_by_letter('c')\n",
    "len(albm_c)"
   ]
  },
  {
   "cell_type": "code",
   "execution_count": 396,
   "metadata": {},
   "outputs": [
    {
     "data": {
      "text/plain": [
       "25"
      ]
     },
     "execution_count": 396,
     "metadata": {},
     "output_type": "execute_result"
    }
   ],
   "source": [
    "## How many albums are there in the database with titles starting with M?\n",
    "albm_m = list_album_ids_by_letter('M')\n",
    "len(albm_m)"
   ]
  },
  {
   "cell_type": "markdown",
   "metadata": {},
   "source": [
    "#### 4.4\n",
    "Write a function list_song_ids_by_album_letter that takes as an argument a single character and returns a list of the primary keys of all the songs whose album names begin with that letter. "
   ]
  },
  {
   "cell_type": "code",
   "execution_count": 438,
   "metadata": {},
   "outputs": [
    {
     "data": {
      "text/plain": [
       "['TrackId',\n",
       " 'Name',\n",
       " 'AlbumId',\n",
       " 'MediaTypeId',\n",
       " 'GenreId',\n",
       " 'Composer',\n",
       " 'Milliseconds',\n",
       " 'Bytes',\n",
       " 'UnitPrice']"
      ]
     },
     "execution_count": 438,
     "metadata": {},
     "output_type": "execute_result"
    }
   ],
   "source": [
    "c.execute(\"SELECT * from Track\")\n",
    "#Column names in Track Table\n",
    "[desc[0] for desc in c.description]"
   ]
  },
  {
   "cell_type": "code",
   "execution_count": 439,
   "metadata": {},
   "outputs": [],
   "source": [
    "s_name = c.execute('SELECT TrackId, Name, AlbumId from Track')\n",
    "song_name = []\n",
    "\n",
    "for n in s_name:\n",
    "    song_name.append(n)\n",
    "\n",
    "an = c.execute('SELECT Title, AlbumId from Album')\n",
    "albm_name = []\n",
    "for n in an:\n",
    "    albm_name.append(n)"
   ]
  },
  {
   "cell_type": "code",
   "execution_count": 440,
   "metadata": {},
   "outputs": [],
   "source": [
    "sng_albm = c.execute('SELECT Track.TrackId, Track.Name, Track.AlbumId FROM Track INNER JOIN Album ON Track.AlbumId = Album.AlbumId')\n",
    "sa = []\n",
    "for row in sng_albm:\n",
    "    sa.append(row)\n"
   ]
  },
  {
   "cell_type": "code",
   "execution_count": 441,
   "metadata": {},
   "outputs": [],
   "source": [
    "sa1 = c.execute('SELECT Album.Title, Album.AlbumId FROM Album LEFT OUTER JOIN Track ON Album.AlbumId = Track.AlbumId UNION SELECT Track.TrackId, Track.AlbumId FROM Track LEFT OUTER JOIN Album ON Album.AlbumId = Track.AlbumId') \n",
    "                #SELECT Name, Title, Album.AlbumId FROM Album LEFT OUTER JOIN Track ON Album.AlbumId = Track.AlbumId')\n",
    "\n",
    "sa = []\n",
    "for row in sa1:\n",
    "    sa.append(row)\n",
    "    \n",
    "join_sa = []\n",
    "for i in song_name:\n",
    "    join_sa.append(list(i))\n",
    "\n",
    "\n",
    "for j in range(0,len(join_sa)):\n",
    "    for k in range(0,len(albm_name)):\n",
    "        if join_sa[j][2] == albm_name[k][1]:\n",
    "            (join_sa[j].append(albm_name[k][0]))\n"
   ]
  },
  {
   "cell_type": "code",
   "execution_count": 442,
   "metadata": {},
   "outputs": [],
   "source": [
    "def list_song_ids_by_album_letter(character):\n",
    "    test = c.execute('SELECT * FROM Track LEFT OUTER JOIN Album ON Album.AlbumId = Track.AlbumID UNION SELECT * FROM Album LEFT OUTER JOIN Track ON Album.AlbumID = Track.AlbumId WHERE Album.AlbumId IS NULL')\n",
    "    song_alb = []\n",
    "    for row in test:\n",
    "        song_alb.append(row)\n",
    "    \n",
    "    song_by_id = []\n",
    "    chrct = character.upper()\n",
    "    \n",
    "    \n",
    "    for i in range(0,len(song_alb)):\n",
    "        name = ((song_alb[i][10]).upper())\n",
    "        if (name).startswith(chrct) == True:\n",
    "            song_by_id.append(song_alb[i][0])\n",
    "    return(song_by_id)\n",
    "    \n",
    "\n",
    "##Index 0 = TrackId\n",
    "##Index 1 = Song Name\n",
    "##Index 2 = Album Id\n",
    "##Index 8 = UnitPrice\n",
    "##Index 9 = Album Id\n",
    "##Index 10 = Album Title\n",
    "\n",
    "#c.description"
   ]
  },
  {
   "cell_type": "code",
   "execution_count": 443,
   "metadata": {},
   "outputs": [
    {
     "data": {
      "text/plain": [
       "74"
      ]
     },
     "execution_count": 443,
     "metadata": {},
     "output_type": "execute_result"
    }
   ],
   "source": [
    "#How many songs are in all the albums whose titles begin with the letter N?\n",
    "sng_id_n = list_song_ids_by_album_letter('n')\n",
    "len(sng_id_n)"
   ]
  },
  {
   "cell_type": "code",
   "execution_count": 427,
   "metadata": {},
   "outputs": [
    {
     "data": {
      "text/plain": [
       "106"
      ]
     },
     "execution_count": 427,
     "metadata": {},
     "output_type": "execute_result"
    }
   ],
   "source": [
    "#How many songs are in all the albums whose titles begin with the letter d?\n",
    "sng_id_d = list_song_ids_by_album_letter('D')\n",
    "len(sng_id_d)"
   ]
  },
  {
   "cell_type": "markdown",
   "metadata": {},
   "source": [
    "#### 4.5\n",
    "Write a function total_cost_by_album_letter that takes as an argument a single character and returns the cost of buying every song whose album begins with that letter. "
   ]
  },
  {
   "cell_type": "code",
   "execution_count": 433,
   "metadata": {},
   "outputs": [],
   "source": [
    "s_price = []\n",
    "for row in (c.execute(\"SELECT TrackId, UnitPrice, AlbumId FROM Track\")):\n",
    "    s_price.append(row)\n"
   ]
  },
  {
   "cell_type": "code",
   "execution_count": 434,
   "metadata": {},
   "outputs": [],
   "source": [
    "test = c.execute('SELECT * FROM Track LEFT OUTER JOIN Album ON Album.AlbumId = Track.AlbumID UNION SELECT * FROM Album LEFT OUTER JOIN Track ON Album.AlbumID = Track.AlbumId WHERE Album.AlbumId IS NULL')\n",
    "song_alb = []\n",
    "for row in test:\n",
    "    song_alb.append(row)\n",
    "    \n",
    "##Index 0 = TrackId\n",
    "##Index 1 = Song Name\n",
    "##Index 2 = Album Id\n",
    "##Index 8 = UnitPrice\n",
    "##Index 9 = Album Id\n",
    "##Index 10 = Album Title\n"
   ]
  },
  {
   "cell_type": "code",
   "execution_count": 435,
   "metadata": {},
   "outputs": [],
   "source": [
    "price1 = c.execute('SELECT *, SUM(UnitPrice) from Track GROUP BY AlbumId')\n",
    "\n",
    "price_lst = []\n",
    "for row in price1:\n",
    "    price_lst.append(list(row))\n",
    "\n",
    "\n",
    "for j in range(0,len(price_lst)):\n",
    "    for k in range(0,len(albm_name)):\n",
    "         if price_lst[j][2] == albm_name[k][1]:\n",
    "            (price_lst[j].append(albm_name[k][0]))\n"
   ]
  },
  {
   "cell_type": "code",
   "execution_count": 436,
   "metadata": {},
   "outputs": [],
   "source": [
    "def total_cost_album_letter(character):\n",
    "    price1 = c.execute('SELECT *, SUM(UnitPrice) from Track GROUP BY AlbumId')\n",
    "\n",
    "    price_lst = []\n",
    "    for row in price1:\n",
    "        price_lst.append(list(row))\n",
    "    \n",
    "    for j in range(0,len(price_lst)):\n",
    "        for k in range(0,len(albm_name)):\n",
    "            if price_lst[j][2] == albm_name[k][1]:\n",
    "                (price_lst[j].append(albm_name[k][0]))\n",
    "    \n",
    "    \n",
    "    albm_by_price = []\n",
    "    chrct = character.upper()\n",
    "    \n",
    "    \n",
    "    for i in range(0,len(price_lst)):\n",
    "        name = ((price_lst[i][10]).upper())\n",
    "        if (name).startswith(chrct) == True:\n",
    "            albm_by_price.append(price_lst[i][9])\n",
    "    return(sum(albm_by_price))"
   ]
  },
  {
   "cell_type": "code",
   "execution_count": 437,
   "metadata": {},
   "outputs": [
    {
     "data": {
      "text/plain": [
       "350.39000000000004"
      ]
     },
     "execution_count": 437,
     "metadata": {},
     "output_type": "execute_result"
    }
   ],
   "source": [
    "##Cost to buy all tracks in the database whose albums begin with L\n",
    "total_cost_album_letter('l')"
   ]
  },
  {
   "cell_type": "code",
   "execution_count": null,
   "metadata": {},
   "outputs": [],
   "source": []
  }
 ],
 "metadata": {
  "kernelspec": {
   "display_name": "Python 3",
   "language": "python",
   "name": "python3"
  },
  "language_info": {
   "codemirror_mode": {
    "name": "ipython",
    "version": 3
   },
   "file_extension": ".py",
   "mimetype": "text/x-python",
   "name": "python",
   "nbconvert_exporter": "python",
   "pygments_lexer": "ipython3",
   "version": "3.6.4"
  }
 },
 "nbformat": 4,
 "nbformat_minor": 2
}
