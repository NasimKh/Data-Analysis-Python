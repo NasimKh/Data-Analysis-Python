{
 "cells": [
  {
   "cell_type": "markdown",
   "metadata": {},
   "source": [
    "## Stats701 Homework 5, Winter 2018\n",
    "### Functional Programming\n",
    "### Katherine Wilkinson\n",
    "#### kswilk@umich.edu\n",
    "\n",
    "I discussed this homework with Sam Edds"
   ]
  },
  {
   "cell_type": "markdown",
   "metadata": {},
   "source": [
    "## 1 Iterators and Generators"
   ]
  },
  {
   "cell_type": "markdown",
   "metadata": {},
   "source": [
    "#### 1.1 Fibonacci Sequence\n",
    "\n",
    "Define a class Fibo of iterators that enumerate the Fibonacci numbers. For the\n",
    "purposes of this problem, the Fibonacci sequence begins $0, 1, 1, 2, 3, . . . ,$ with the\n",
    "$n$-th Fibonacci number $f_n$ given by the recursive formula $f_n = f_{n−1} + f_{n−2}$"
   ]
  },
  {
   "cell_type": "code",
   "execution_count": 411,
   "metadata": {},
   "outputs": [],
   "source": [
    "class Fibo():\n",
    "    # Initiate, start at 0, 1\n",
    "    def __init__(self):\n",
    "        self.f = 0\n",
    "        self.s = 1\n",
    "        \n",
    "    #define next as f_(n-1) + f_(n-2)    \n",
    "    def __next__(self):\n",
    "        fib = self.f\n",
    "        self.f , self.s = self.s, self.f+self.s \n",
    "        #Return next fibonacci number\n",
    "        return(fib)\n",
    "        \n",
    "       \n",
    "    def __iter__(self):\n",
    "        return(self)"
   ]
  },
  {
   "cell_type": "code",
   "execution_count": 419,
   "metadata": {},
   "outputs": [
    {
     "data": {
      "text/plain": [
       "[0,\n",
       " 1,\n",
       " 1,\n",
       " 2,\n",
       " 3,\n",
       " 5,\n",
       " 8,\n",
       " 13,\n",
       " 21,\n",
       " 34,\n",
       " 55,\n",
       " 89,\n",
       " 144,\n",
       " 233,\n",
       " 377,\n",
       " 610,\n",
       " 987,\n",
       " 1597,\n",
       " 2584,\n",
       " 4181]"
      ]
     },
     "execution_count": 419,
     "metadata": {},
     "output_type": "execute_result"
    }
   ],
   "source": [
    "f = Fibo()\n",
    "[next(f) for _ in range(20)]"
   ]
  },
  {
   "cell_type": "markdown",
   "metadata": {},
   "source": [
    "#### 1.2 Define Generator Integers \n",
    "Define a generator integers that enumerates the nonnegative integers, in increasing\n",
    "order, starting with 0"
   ]
  },
  {
   "cell_type": "code",
   "execution_count": 137,
   "metadata": {},
   "outputs": [],
   "source": [
    "def integers():\n",
    "    h = 0\n",
    "    while True:\n",
    "        yield h\n",
    "        h = h + 1\n",
    "    "
   ]
  },
  {
   "cell_type": "code",
   "execution_count": 420,
   "metadata": {},
   "outputs": [
    {
     "data": {
      "text/plain": [
       "[0, 1, 2, 3, 4]"
      ]
     },
     "execution_count": 420,
     "metadata": {},
     "output_type": "execute_result"
    }
   ],
   "source": [
    "y = integers()\n",
    "[next(y) for _ in range(5)]"
   ]
  },
  {
   "cell_type": "markdown",
   "metadata": {},
   "source": [
    "#### 1.3 Define Generator Primes\n",
    "\n",
    "Define a generator primes that enumerates the prime numbers. Recall that a prime\n",
    "number is any integer $p > 1$ whose only divisors are $p$ and 1."
   ]
  },
  {
   "cell_type": "code",
   "execution_count": 442,
   "metadata": {},
   "outputs": [],
   "source": [
    "def primes():\n",
    "    #first prime is 2\n",
    "    n = 2\n",
    "    #create empty set to put primes in\n",
    "    primes = set()\n",
    "    while True:\n",
    "        #loop through set\n",
    "        for p in primes:\n",
    "            #if n/p has no remainder, break while loop\n",
    "            #that is, n is divisble by some number not itself or 1\n",
    "            #print(n%p , n,p)\n",
    "            if n % p == 0:\n",
    "                break\n",
    "        \n",
    "        else:\n",
    "            # if n%p != 0, add to primes set\n",
    "            primes.add(n)\n",
    "            #yield all n added to primes set\n",
    "            yield n\n",
    "        #add one to n \n",
    "        n = n + 1\n",
    "        "
   ]
  },
  {
   "cell_type": "code",
   "execution_count": 469,
   "metadata": {},
   "outputs": [
    {
     "data": {
      "text/plain": [
       "[2, 3, 5, 7, 11, 13, 17, 19, 23, 29]"
      ]
     },
     "execution_count": 469,
     "metadata": {},
     "output_type": "execute_result"
    }
   ],
   "source": [
    "p = primes()\n",
    "[next(p) for _ in range(10)]"
   ]
  },
  {
   "cell_type": "markdown",
   "metadata": {},
   "source": [
    "## 2 List Comprehensions and Generator Expressions"
   ]
  },
  {
   "cell_type": "markdown",
   "metadata": {},
   "source": [
    "#### 2.1 Write list comprhension that enumerate odd squares of integers\n",
    "\n",
    "Write a list comprehension that enumerates the odd squares of the integers 1 through\n",
    "20 inclusive"
   ]
  },
  {
   "cell_type": "code",
   "execution_count": 470,
   "metadata": {},
   "outputs": [
    {
     "data": {
      "text/plain": [
       "[1, 9, 25, 49, 81, 121, 169, 225, 289, 361]"
      ]
     },
     "execution_count": 470,
     "metadata": {},
     "output_type": "execute_result"
    }
   ],
   "source": [
    "[x ** 2 for x in range(1,20) if x%2 != 0]"
   ]
  },
  {
   "cell_type": "markdown",
   "metadata": {},
   "source": [
    "#### 2.2 Generator expression for perfect cubes\n",
    "\n",
    "Write a generator expression that enumerates the perfect cubes, starting from 1."
   ]
  },
  {
   "cell_type": "code",
   "execution_count": 471,
   "metadata": {},
   "outputs": [],
   "source": [
    "def perfect_cubes():\n",
    "    pc = 1\n",
    "    while True:\n",
    "        yield pc ** 3\n",
    "        pc = pc + 1"
   ]
  },
  {
   "cell_type": "code",
   "execution_count": 472,
   "metadata": {},
   "outputs": [
    {
     "data": {
      "text/plain": [
       "[1, 8, 27, 64, 125]"
      ]
     },
     "execution_count": 472,
     "metadata": {},
     "output_type": "execute_result"
    }
   ],
   "source": [
    "pc = perfect_cubes()\n",
    "[next(pc) for _ in range(5)]"
   ]
  },
  {
   "cell_type": "markdown",
   "metadata": {},
   "source": [
    "#### 2.3 Generator expression for tetrahedral numbers\n",
    "\n",
    "Write a generator expression that enumerates the tetrahedral numbers. "
   ]
  },
  {
   "cell_type": "code",
   "execution_count": 476,
   "metadata": {},
   "outputs": [],
   "source": [
    "import math\n",
    "def tetrahedral():\n",
    "    #start tetrahedrals at 1\n",
    "    t = 1\n",
    "    #call integers generator from above\n",
    "    i = integers()\n",
    "    \n",
    "    while True:\n",
    "        #call n as next integer + 2\n",
    "        n = next(i)+2\n",
    "        #return tetrahedral number\n",
    "        yield t\n",
    "        #create next tetrahedral number\n",
    "        t = (math.factorial(n+2)/((math.factorial(3)*math.factorial((n+2)-3))))\n",
    "        "
   ]
  },
  {
   "cell_type": "code",
   "execution_count": 478,
   "metadata": {},
   "outputs": [
    {
     "data": {
      "text/plain": [
       "[1, 4.0, 10.0, 20.0, 35.0, 56.0, 84.0]"
      ]
     },
     "execution_count": 478,
     "metadata": {},
     "output_type": "execute_result"
    }
   ],
   "source": [
    "t = tetrahedral()\n",
    "[next(t) for _ in range(7)]"
   ]
  },
  {
   "cell_type": "markdown",
   "metadata": {},
   "source": [
    "## 3 Map, Filter, and Reduce"
   ]
  },
  {
   "cell_type": "markdown",
   "metadata": {},
   "source": [
    "#### 3.1 Write a one-line expression that computes the sum of the first 10 odd square numbers\n",
    "\n",
    "Write a one-line expression that computes the sum of the first 10 odd square numbers\n",
    "(starting with 1)."
   ]
  },
  {
   "cell_type": "code",
   "execution_count": 480,
   "metadata": {},
   "outputs": [
    {
     "data": {
      "text/plain": [
       "165"
      ]
     },
     "execution_count": 480,
     "metadata": {},
     "output_type": "execute_result"
    }
   ],
   "source": [
    "import functools\n",
    "sum([x ** 2 for x in range(1,10) if (x**2)%2 != 0])"
   ]
  },
  {
   "cell_type": "markdown",
   "metadata": {},
   "source": [
    "#### 3.2 One-line expression that computes product of first 17 primes\n",
    "\n",
    "Write a one-line expression that computes the product of the first 17 primes. You\n",
    "may use the primes generator that you defined above."
   ]
  },
  {
   "cell_type": "code",
   "execution_count": 482,
   "metadata": {},
   "outputs": [
    {
     "data": {
      "text/plain": [
       "1922760350154212639070"
      ]
     },
     "execution_count": 482,
     "metadata": {},
     "output_type": "execute_result"
    }
   ],
   "source": [
    "p = primes()\n",
    "functools.reduce(lambda x,y: x*y,[next(p) for _ in range(17)])"
   ]
  },
  {
   "cell_type": "markdown",
   "metadata": {},
   "source": [
    "#### 3.3 One-line expression that computes a list of the 1st ten harmonic numbers\n",
    "\n",
    "Write a one-line expression that computes a list of the first ten harmonic numbers.\n",
    "Recall that the n-th harmonic number is given by $H_n =\n",
    "\\sum^n_{k=1}\\frac{1}{k}$"
   ]
  },
  {
   "cell_type": "code",
   "execution_count": 483,
   "metadata": {},
   "outputs": [
    {
     "data": {
      "text/plain": [
       "[1.0,\n",
       " 1.5,\n",
       " 1.8333333333333333,\n",
       " 2.083333333333333,\n",
       " 2.283333333333333,\n",
       " 2.4499999999999997,\n",
       " 2.5928571428571425,\n",
       " 2.7178571428571425,\n",
       " 2.8289682539682537]"
      ]
     },
     "execution_count": 483,
     "metadata": {},
     "output_type": "execute_result"
    }
   ],
   "source": [
    "import itertools\n",
    "list(itertools.accumulate(1/k for k in range(1,10)))"
   ]
  },
  {
   "cell_type": "markdown",
   "metadata": {},
   "source": [
    "#### 3.4 One-line expression that computes goemetri mean of the first 10 tetrahedral numbers\n",
    "\n",
    "Write a one-line expression that computes the geometric mean of the first 10 tetrahedral\n",
    "numbers"
   ]
  },
  {
   "cell_type": "code",
   "execution_count": 485,
   "metadata": {},
   "outputs": [
    {
     "data": {
      "text/plain": [
       "29.91378180628326"
      ]
     },
     "execution_count": 485,
     "metadata": {},
     "output_type": "execute_result"
    }
   ],
   "source": [
    "t = tetrahedral()\n",
    "functools.reduce(lambda x,y: (x*y),[next(t) for _ in range(10)]) **(1/(len([next(t) for _ in range(10)])))"
   ]
  },
  {
   "cell_type": "markdown",
   "metadata": {},
   "source": [
    "## 4 Fun with Polynomials"
   ]
  },
  {
   "cell_type": "markdown",
   "metadata": {},
   "source": [
    "#### 4.1 Write function eval_poly\n",
    "\n",
    "Write a function eval_poly that takes two arguments: a number (int or float) x, and\n",
    "a list of numbers (again, ints and/or floats) coeffs.\n",
    " eval_poly should return the value of this polynomial, evaluated at\n",
    "x. "
   ]
  },
  {
   "cell_type": "code",
   "execution_count": 486,
   "metadata": {},
   "outputs": [],
   "source": [
    "def eval_poly(x, coeffs):\n",
    "    \n",
    "    return(sum([coeffs[i]*(x**i) for i in range(len(coeffs))]))"
   ]
  },
  {
   "cell_type": "code",
   "execution_count": 490,
   "metadata": {},
   "outputs": [
    {
     "data": {
      "text/plain": [
       "254.95999999999998"
      ]
     },
     "execution_count": 490,
     "metadata": {},
     "output_type": "execute_result"
    }
   ],
   "source": [
    "eval_poly(3.4,[2,3,4,5])"
   ]
  },
  {
   "cell_type": "markdown",
   "metadata": {},
   "source": [
    "#### 4.2 Write function make_poly\n",
    "\n",
    "Write a function make_poly that takes a list of numbers coeffs as its only argument\n",
    "and returns another function p."
   ]
  },
  {
   "cell_type": "code",
   "execution_count": 491,
   "metadata": {},
   "outputs": [],
   "source": [
    "def make_poly(coeffs):\n",
    "    p = lambda x: eval_poly(x, coeffs)\n",
    "    return(p)"
   ]
  },
  {
   "cell_type": "code",
   "execution_count": 492,
   "metadata": {},
   "outputs": [],
   "source": [
    "p  = make_poly([2,3,4,5])"
   ]
  },
  {
   "cell_type": "code",
   "execution_count": 495,
   "metadata": {},
   "outputs": [
    {
     "data": {
      "text/plain": [
       "254.95999999999998"
      ]
     },
     "execution_count": 495,
     "metadata": {},
     "output_type": "execute_result"
    }
   ],
   "source": [
    "p(3.4)"
   ]
  }
 ],
 "metadata": {
  "kernelspec": {
   "display_name": "Python 3",
   "language": "python",
   "name": "python3"
  },
  "language_info": {
   "codemirror_mode": {
    "name": "ipython",
    "version": 3
   },
   "file_extension": ".py",
   "mimetype": "text/x-python",
   "name": "python",
   "nbconvert_exporter": "python",
   "pygments_lexer": "ipython3",
   "version": "3.6.4"
  }
 },
 "nbformat": 4,
 "nbformat_minor": 2
}
