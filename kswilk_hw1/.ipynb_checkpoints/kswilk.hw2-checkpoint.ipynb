{
 "cells": [
  {
   "cell_type": "markdown",
   "metadata": {},
   "source": [
    "## Stats701 Homework 2, Winter 2018\n",
    "### Iteration, Strings, and Lists\n",
    "### Katherine Wilkinson\n",
    "#### kswilk@umich.edu\n",
    "\n",
    "I did not discuss this homework with anyone. "
   ]
  },
  {
   "cell_type": "markdown",
   "metadata": {},
   "source": [
    "### 1: Fun with Strings\n",
    "\n",
    "#### 1.1\n",
    "\n",
    "Palidrome: https://en.wikipedia.org/wiki/Palindrome\n",
    "\n",
    "Write a function called is_palindrome, which takes a string as its only argument, and returns a Boolean."
   ]
  },
  {
   "cell_type": "code",
   "execution_count": 547,
   "metadata": {},
   "outputs": [],
   "source": [
    "def is_palidrome(string):\n",
    "    strg = string.lower()\n",
    "    strg = strg.replace(' ' ,'')\n",
    "    \n",
    "    \n",
    "    for k in range(0,len(strg)):\n",
    "        if strg[k]==strg[-k-1]:\n",
    "            return(True)\n",
    "        return(False)"
   ]
  },
  {
   "cell_type": "code",
   "execution_count": 548,
   "metadata": {},
   "outputs": [
    {
     "data": {
      "text/plain": [
       "False"
      ]
     },
     "execution_count": 548,
     "metadata": {},
     "output_type": "execute_result"
    }
   ],
   "source": [
    "is_palidrome('goats are cool')"
   ]
  },
  {
   "cell_type": "code",
   "execution_count": 549,
   "metadata": {},
   "outputs": [
    {
     "data": {
      "text/plain": [
       "True"
      ]
     },
     "execution_count": 549,
     "metadata": {},
     "output_type": "execute_result"
    }
   ],
   "source": [
    "is_palidrome(' GO  hang a salami Im a lasagna HOG')"
   ]
  },
  {
   "cell_type": "code",
   "execution_count": 553,
   "metadata": {},
   "outputs": [
    {
     "data": {
      "text/plain": [
       "True"
      ]
     },
     "execution_count": 553,
     "metadata": {},
     "output_type": "execute_result"
    }
   ],
   "source": [
    "is_palidrome('kayak')"
   ]
  },
  {
   "cell_type": "markdown",
   "metadata": {},
   "source": [
    "#### 1.2\n",
    "\n",
    "Write a function is_abecedarian, which takes a single argument in the form of a string and returns True if the argument is abecedarian and False otherwise."
   ]
  },
  {
   "cell_type": "code",
   "execution_count": 1004,
   "metadata": {},
   "outputs": [],
   "source": [
    "def is_abecedarian(strg):\n",
    "    strg_n = strg[:]\n",
    "    strg_n = strg_n.lower()\n",
    "    strg_n = strg_n.replace(' ' ,'')\n",
    "\n",
    "    if len(strg_n) <= 1:\n",
    "            return(True)\n",
    "    else:\n",
    "        \n",
    "        for k in range(0,len(strg_n)-1):\n",
    "            if strg_n[k] <= strg_n[k+1]:\n",
    "                strg_n = strg_n[k+1:]\n",
    "                #return(strg)\n",
    "                return(is_abecedarian(strg_n))\n",
    "            else:\n",
    "                return(False)\n",
    "    return(False)"
   ]
  },
  {
   "cell_type": "code",
   "execution_count": 1013,
   "metadata": {},
   "outputs": [],
   "source": [
    "test = 'A dder'"
   ]
  },
  {
   "cell_type": "code",
   "execution_count": 1014,
   "metadata": {},
   "outputs": [
    {
     "data": {
      "text/plain": [
       "True"
      ]
     },
     "execution_count": 1014,
     "metadata": {},
     "output_type": "execute_result"
    }
   ],
   "source": [
    "is_abecedarian(test)"
   ]
  },
  {
   "cell_type": "code",
   "execution_count": 1015,
   "metadata": {},
   "outputs": [
    {
     "data": {
      "text/plain": [
       "'A dder'"
      ]
     },
     "execution_count": 1015,
     "metadata": {},
     "output_type": "execute_result"
    }
   ],
   "source": [
    "test"
   ]
  },
  {
   "cell_type": "code",
   "execution_count": 1016,
   "metadata": {},
   "outputs": [
    {
     "data": {
      "text/plain": [
       "True"
      ]
     },
     "execution_count": 1016,
     "metadata": {},
     "output_type": "execute_result"
    }
   ],
   "source": [
    "is_abecedarian('A dder')"
   ]
  },
  {
   "cell_type": "code",
   "execution_count": 570,
   "metadata": {},
   "outputs": [
    {
     "data": {
      "text/plain": [
       "True"
      ]
     },
     "execution_count": 570,
     "metadata": {},
     "output_type": "execute_result"
    }
   ],
   "source": [
    "is_abecedarian(' abC xy Z')"
   ]
  },
  {
   "cell_type": "code",
   "execution_count": 571,
   "metadata": {},
   "outputs": [
    {
     "data": {
      "text/plain": [
       "False"
      ]
     },
     "execution_count": 571,
     "metadata": {},
     "output_type": "execute_result"
    }
   ],
   "source": [
    "is_abecedarian('goat')"
   ]
  },
  {
   "cell_type": "markdown",
   "metadata": {},
   "source": [
    "#### 1.3\n",
    "\n",
    "Write a function called count_vowels that takes a single string as an argument and\n",
    "returns a non-negative integer, the number of vowels that appeared in the string.\n",
    "For the purposes of this question, the vowels are the letters “a e i o u”."
   ]
  },
  {
   "cell_type": "code",
   "execution_count": 622,
   "metadata": {},
   "outputs": [],
   "source": [
    "def count_vowels(strg):\n",
    "    strg = strg.lower()\n",
    "    k = 0\n",
    "    for c in strg:\n",
    "        if c == 'a':\n",
    "            k = k + 1\n",
    "        if c == 'e':\n",
    "            k = k + 1\n",
    "        if c == 'i':\n",
    "            k = k + 1\n",
    "        if c == 'o':\n",
    "            k = k + 1\n",
    "        if c == 'u':\n",
    "            k = k +1\n",
    "    return(k)\n",
    "   "
   ]
  },
  {
   "cell_type": "code",
   "execution_count": 626,
   "metadata": {},
   "outputs": [
    {
     "data": {
      "text/plain": [
       "13"
      ]
     },
     "execution_count": 626,
     "metadata": {},
     "output_type": "execute_result"
    }
   ],
   "source": [
    "count_vowels('Goats are the coolest animals ever')"
   ]
  },
  {
   "cell_type": "code",
   "execution_count": 624,
   "metadata": {},
   "outputs": [
    {
     "data": {
      "text/plain": [
       "3"
      ]
     },
     "execution_count": 624,
     "metadata": {},
     "output_type": "execute_result"
    }
   ],
   "source": [
    "count_vowels('bAnaNa')"
   ]
  },
  {
   "cell_type": "code",
   "execution_count": 628,
   "metadata": {},
   "outputs": [
    {
     "data": {
      "text/plain": [
       "1"
      ]
     },
     "execution_count": 628,
     "metadata": {},
     "output_type": "execute_result"
    }
   ],
   "source": [
    "count_vowels('Thyme')"
   ]
  },
  {
   "cell_type": "markdown",
   "metadata": {},
   "source": [
    "### 2. Fun with Lists\n",
    "\n",
    "#### 2.1\n",
    "\n",
    "Write a function list_reverse that takes a list as an argument and returns that list,\n",
    "reversed."
   ]
  },
  {
   "cell_type": "code",
   "execution_count": 768,
   "metadata": {},
   "outputs": [],
   "source": [
    "#def list_reverse(lst):\n",
    "#    if type(lst) != list:\n",
    "#        return ('Opps! Input must be a list!')\n",
    "#    lst.reverse()\n",
    "#    return(lst)\n",
    "\n",
    "def list_reverse(lst):\n",
    "    if type(lst) != list:\n",
    "        return ('Opps! Input must be a list!')\n",
    "    \n",
    "    lst_rv = []\n",
    "    #while len(lst_rv) != len(lst):\n",
    "    for i in range(1,len(lst)+1):\n",
    "        lst_rv.append(lst[-i])\n",
    "    return(lst_rv)   "
   ]
  },
  {
   "cell_type": "code",
   "execution_count": 770,
   "metadata": {},
   "outputs": [
    {
     "data": {
      "text/plain": [
       "'Opps! Input must be a list!'"
      ]
     },
     "execution_count": 770,
     "metadata": {},
     "output_type": "execute_result"
    }
   ],
   "source": [
    "list_reverse(string)"
   ]
  },
  {
   "cell_type": "code",
   "execution_count": 761,
   "metadata": {},
   "outputs": [],
   "source": [
    "lst1 = ['goat', 1, 3,'apple']"
   ]
  },
  {
   "cell_type": "code",
   "execution_count": 735,
   "metadata": {},
   "outputs": [],
   "source": [
    "lst1.remove(1)"
   ]
  },
  {
   "cell_type": "code",
   "execution_count": 736,
   "metadata": {},
   "outputs": [
    {
     "data": {
      "text/plain": [
       "['apple', 3, 'goat']"
      ]
     },
     "execution_count": 736,
     "metadata": {},
     "output_type": "execute_result"
    }
   ],
   "source": [
    "lst1"
   ]
  },
  {
   "cell_type": "code",
   "execution_count": 756,
   "metadata": {},
   "outputs": [
    {
     "data": {
      "text/plain": [
       "'apple'"
      ]
     },
     "execution_count": 756,
     "metadata": {},
     "output_type": "execute_result"
    }
   ],
   "source": [
    "lst1[-1]"
   ]
  },
  {
   "cell_type": "code",
   "execution_count": 771,
   "metadata": {},
   "outputs": [
    {
     "data": {
      "text/plain": [
       "['apple', 3, 1, 'goat']"
      ]
     },
     "execution_count": 771,
     "metadata": {},
     "output_type": "execute_result"
    }
   ],
   "source": [
    "list_reverse(lst1)"
   ]
  },
  {
   "cell_type": "code",
   "execution_count": 772,
   "metadata": {},
   "outputs": [
    {
     "data": {
      "text/plain": [
       "[3.14, ['goat', 'sheep', 'dog'], 4, 3, 2, 1]"
      ]
     },
     "execution_count": 772,
     "metadata": {},
     "output_type": "execute_result"
    }
   ],
   "source": [
    "list_reverse([1,2,3,4,['goat','sheep','dog'],3.14])"
   ]
  },
  {
   "cell_type": "code",
   "execution_count": 773,
   "metadata": {},
   "outputs": [
    {
     "data": {
      "text/plain": [
       "['goat', 1, 3, 'apple']"
      ]
     },
     "execution_count": 773,
     "metadata": {},
     "output_type": "execute_result"
    }
   ],
   "source": [
    "lst1"
   ]
  },
  {
   "cell_type": "markdown",
   "metadata": {},
   "source": [
    "#### 2.2 \n",
    "\n",
    "Write a function called binary_search\n",
    "that takes two arguments, a sorted list of integers t and an integer elmt, and returns\n",
    "True if elmt appears in list t and False otherwise"
   ]
  },
  {
   "cell_type": "code",
   "execution_count": 1430,
   "metadata": {},
   "outputs": [],
   "source": [
    "def sort_list(t):\n",
    "    t_sorted = []\n",
    "    tnew = t[:]\n",
    "    while len(tnew) > 0:\n",
    "        tmin = tnew[0]\n",
    "        for i in tnew:\n",
    "            if i < tmin:\n",
    "                tmin = i\n",
    "        tnew.remove(tmin)\n",
    "        t_sorted.append(tmin)\n",
    "        \n",
    "    \n",
    "    return(t_sorted)\n",
    "\n",
    "def binary_search(t, elmt):\n",
    "    \n",
    "    #TO DO: make function to sort list t\n",
    "    #t_sorted = sort_list(t)\n",
    "    #return(t_sorted, type(t_sorted))\n",
    "    l = len(t)\n",
    "    if len(t) == 0:\n",
    "        return(False)\n",
    "    if len(t) <= 2:\n",
    "        if elmt in t:\n",
    "            return(True)\n",
    "        else:\n",
    "            return(False)\n",
    "    if elmt == t[int(len(t)/2)]:\n",
    "        return(True)\n",
    "    else:\n",
    "        if elmt < t[int(len(t)/2)]:\n",
    "            return(binary_search(t[:int(len(t)/2)],elmt))\n",
    "        else:\n",
    "            return(binary_search(t[int(len(t)/2):],elmt))\n",
    "            \n",
    "  \n",
    "    "
   ]
  },
  {
   "cell_type": "code",
   "execution_count": 1404,
   "metadata": {},
   "outputs": [],
   "source": [
    "t= [5,3,4,2,1]"
   ]
  },
  {
   "cell_type": "code",
   "execution_count": 937,
   "metadata": {},
   "outputs": [
    {
     "data": {
      "text/plain": [
       "[]"
      ]
     },
     "execution_count": 937,
     "metadata": {},
     "output_type": "execute_result"
    }
   ],
   "source": [
    "t[:int(len(t)/2)]"
   ]
  },
  {
   "cell_type": "code",
   "execution_count": 1406,
   "metadata": {},
   "outputs": [
    {
     "data": {
      "text/plain": [
       "True"
      ]
     },
     "execution_count": 1406,
     "metadata": {},
     "output_type": "execute_result"
    }
   ],
   "source": [
    "binary_search([1,2,3,2],3)"
   ]
  },
  {
   "cell_type": "code",
   "execution_count": 1407,
   "metadata": {},
   "outputs": [],
   "source": [
    "longlist = [0, 1, 1, 2, 3, 5, 8, 13, 21, 34, 55, 89, 144, 233, 377, 610, 987]"
   ]
  },
  {
   "cell_type": "code",
   "execution_count": 1429,
   "metadata": {},
   "outputs": [
    {
     "data": {
      "text/plain": [
       "True"
      ]
     },
     "execution_count": 1429,
     "metadata": {},
     "output_type": "execute_result"
    }
   ],
   "source": [
    "binary_search(longlist, longlist[5])"
   ]
  },
  {
   "cell_type": "code",
   "execution_count": 1432,
   "metadata": {},
   "outputs": [],
   "source": [
    "import random\n",
    "y = list(range(0,10000))\n",
    "r = random.sample(y,100)"
   ]
  },
  {
   "cell_type": "code",
   "execution_count": 1435,
   "metadata": {},
   "outputs": [
    {
     "data": {
      "text/plain": [
       "True"
      ]
     },
     "execution_count": 1435,
     "metadata": {},
     "output_type": "execute_result"
    }
   ],
   "source": [
    "binary_search(sort_list(r), r[5])"
   ]
  },
  {
   "cell_type": "code",
   "execution_count": 1434,
   "metadata": {},
   "outputs": [
    {
     "data": {
      "text/plain": [
       "[9417, 8853, 9423, 8312, 781]"
      ]
     },
     "execution_count": 1434,
     "metadata": {},
     "output_type": "execute_result"
    }
   ],
   "source": [
    "r[:5]"
   ]
  },
  {
   "cell_type": "markdown",
   "metadata": {},
   "source": [
    "### 3 More Fun with Strings\n",
    "\n",
    "#### 3.1\n",
    "\n",
    "Write a function called char_hist that takes a string as its argument and returns a\n",
    "dictionary whose keys are characters and values are the number of times each character\n",
    "appeared in the input. "
   ]
  },
  {
   "cell_type": "code",
   "execution_count": 1436,
   "metadata": {},
   "outputs": [],
   "source": [
    "def count(strg, letter):\n",
    "    cnt = 0 \n",
    "    for c in strg:\n",
    "        if c == letter:\n",
    "            cnt = cnt + 1\n",
    "    return(cnt)\n",
    "\n",
    "def char_hist(strg):\n",
    "    strg_new = strg[:]\n",
    "    strg_new = strg_new.lower()\n",
    "    \n",
    "    d= {}  #create empty dictionary\n",
    "    for i in strg_new:  #loop through all elements in string\n",
    "        \n",
    "        \n",
    "        d[i] = count(strg_new, i) #add count of each elmnt and elmnt to dictionary\n",
    "    return(d)  #return filled dictionary\n",
    "        \n",
    "        "
   ]
  },
  {
   "cell_type": "code",
   "execution_count": 1437,
   "metadata": {},
   "outputs": [
    {
     "data": {
      "text/plain": [
       "{' ': 1, 'a': 3, 'g': 1, 'o': 2, 't': 4}"
      ]
     },
     "execution_count": 1437,
     "metadata": {},
     "output_type": "execute_result"
    }
   ],
   "source": [
    "char_hist('goao tattat')"
   ]
  },
  {
   "cell_type": "code",
   "execution_count": 1438,
   "metadata": {},
   "outputs": [],
   "source": [
    "x = 'Goats are super cool yo'"
   ]
  },
  {
   "cell_type": "code",
   "execution_count": 1442,
   "metadata": {},
   "outputs": [],
   "source": [
    "d = char_hist(x)"
   ]
  },
  {
   "cell_type": "code",
   "execution_count": 1445,
   "metadata": {},
   "outputs": [
    {
     "data": {
      "text/plain": [
       "4"
      ]
     },
     "execution_count": 1445,
     "metadata": {},
     "output_type": "execute_result"
    }
   ],
   "source": [
    "d[' ']"
   ]
  },
  {
   "cell_type": "markdown",
   "metadata": {},
   "source": [
    "#### 3.2\n",
    "\n",
    "Write a function called bigram_hist that takes a string as its argument and returns\n",
    "a dictionary whose keys are 2-tuples of characters and values are the number of times\n",
    "that pair of characters appeared in the string"
   ]
  },
  {
   "cell_type": "code",
   "execution_count": 1448,
   "metadata": {},
   "outputs": [],
   "source": [
    "def count(strg, letter):\n",
    "    cnt = 0 \n",
    "    for c in strg:\n",
    "        if c == letter:\n",
    "            cnt = cnt + 1\n",
    "    return(cnt)\n",
    "\n",
    "def bigram_hist(strg):\n",
    "    strg_new = strg[:]\n",
    "    strg_new = strg_new.lower()\n",
    "    \n",
    "    x = {}\n",
    "    for i in range(0,len(strg_new)-1):\n",
    "        x[strg_new[i] + strg_new[i+1]] = strg_new.count(strg_new[i] + \n",
    "                                                        strg_new[i+1])\n",
    "    return(x)\n",
    "        "
   ]
  },
  {
   "cell_type": "code",
   "execution_count": 1450,
   "metadata": {},
   "outputs": [],
   "source": [
    "x = 'goatgoat'"
   ]
  },
  {
   "cell_type": "code",
   "execution_count": 1451,
   "metadata": {},
   "outputs": [
    {
     "data": {
      "text/plain": [
       "{'at': 2, 'go': 2, 'oa': 2, 'tg': 1}"
      ]
     },
     "execution_count": 1451,
     "metadata": {},
     "output_type": "execute_result"
    }
   ],
   "source": [
    "bigram_hist(x)"
   ]
  },
  {
   "cell_type": "code",
   "execution_count": 1158,
   "metadata": {},
   "outputs": [
    {
     "data": {
      "text/plain": [
       "{'ip': 1, 'is': 2, 'mi': 1, 'pi': 1, 'pp': 1, 'si': 2, 'ss': 2}"
      ]
     },
     "execution_count": 1158,
     "metadata": {},
     "output_type": "execute_result"
    }
   ],
   "source": [
    "bigram_hist('mississippi')"
   ]
  },
  {
   "cell_type": "markdown",
   "metadata": {},
   "source": [
    "### Problem 4: Tuples vs Vectors\n",
    "\n",
    "#### 4.1\n",
    "Implement a function called vec_scalar_mult, which takes two arguments: a tuple\n",
    "of numbers (floats and/or integers) t and a number (float or integer) s and returns\n",
    "a tuple of the same length as t, with its entries equal to the entries of t multiplied\n",
    "by s. That is, vec_scalar_mult implements multiplication of a vector by a scalar."
   ]
  },
  {
   "cell_type": "code",
   "execution_count": 1607,
   "metadata": {},
   "outputs": [],
   "source": [
    "def tuple_check(t):\n",
    "    if type(t) != tuple:\n",
    "        return(False)\n",
    "    else:\n",
    "        return(True)\n",
    "\n",
    "def tuple_check_elm(t):\n",
    "    for i in t:\n",
    "        if type(i) != int and type(i) != float:\n",
    "            return(False)\n",
    "        else:\n",
    "            return(True)\n",
    "         \n",
    "    "
   ]
  },
  {
   "cell_type": "code",
   "execution_count": 1609,
   "metadata": {},
   "outputs": [
    {
     "data": {
      "text/plain": [
       "True"
      ]
     },
     "execution_count": 1609,
     "metadata": {},
     "output_type": "execute_result"
    }
   ],
   "source": [
    "tuple_check_elm(my_mx[1])"
   ]
  },
  {
   "cell_type": "code",
   "execution_count": 1605,
   "metadata": {},
   "outputs": [],
   "source": []
  },
  {
   "cell_type": "code",
   "execution_count": 1452,
   "metadata": {},
   "outputs": [],
   "source": [
    "def vec_scalar_mult(t, s):\n",
    "    if type(t) != tuple:\n",
    "        return('TypeError: 1st input must be tuple')\n",
    "    else:\n",
    "        for i in t:\n",
    "            if type(i) != int and type(i) != float:\n",
    "                return('TypeError: tuple values must be integer or float')\n",
    "    \n",
    "    if type(s) != int and type(s) != float:\n",
    "        return('TypeError: 2nd input must be integer or float')\n",
    "    else:\n",
    "        l_sm = list()\n",
    "        for i in t:\n",
    "            l_sm.append(i*s)\n",
    "        t_sm = tuple(l_sm)\n",
    "        return(t_sm)"
   ]
  },
  {
   "cell_type": "code",
   "execution_count": 1454,
   "metadata": {},
   "outputs": [],
   "source": [
    "t = tuple(range(10))"
   ]
  },
  {
   "cell_type": "code",
   "execution_count": 1455,
   "metadata": {},
   "outputs": [
    {
     "data": {
      "text/plain": [
       "(0, 2, 4, 6, 8, 10, 12, 14, 16, 18)"
      ]
     },
     "execution_count": 1455,
     "metadata": {},
     "output_type": "execute_result"
    }
   ],
   "source": [
    "vec_scalar_mult(t,2)"
   ]
  },
  {
   "cell_type": "code",
   "execution_count": 1243,
   "metadata": {},
   "outputs": [],
   "source": [
    "t2 = (1,19,3)"
   ]
  },
  {
   "cell_type": "markdown",
   "metadata": {},
   "source": [
    "#### 4.2\n",
    " Implement a function called vec_inner_product which takes two “vectors” (i.e.,\n",
    "tuples of floats) as its inputs and outputs a float corresponding to the inner product\n",
    "of these two vectors"
   ]
  },
  {
   "cell_type": "code",
   "execution_count": 1456,
   "metadata": {},
   "outputs": [],
   "source": [
    "def vec_inner_product(t1, t2):\n",
    "    if type(t1) != tuple or type(t2) != tuple:\n",
    "        return('TypeError: input must be tuples')\n",
    "    else:\n",
    "        if len(t1) != len(t2):\n",
    "            return('ValueError: tuples must be same length!')\n",
    "    p = []\n",
    "    for i in range(0,len(t1)):\n",
    "        #for j in range(0,len(t2)-1):\n",
    "        p.append(t1[i]*t2[i])\n",
    "    #x=sum(p)\n",
    "    \n",
    "    #for k in range(0,len(p)-1):\n",
    "        #x = sum(p)\n",
    "        #print(p[k])\n",
    "    x = float(sum(p))\n",
    "    return(x)\n",
    "        "
   ]
  },
  {
   "cell_type": "code",
   "execution_count": 1458,
   "metadata": {},
   "outputs": [],
   "source": [
    "t1 = (1,2,3,7.5)"
   ]
  },
  {
   "cell_type": "code",
   "execution_count": 1459,
   "metadata": {},
   "outputs": [],
   "source": [
    "t2 = (3,4.32,5,7)"
   ]
  },
  {
   "cell_type": "code",
   "execution_count": 1460,
   "metadata": {},
   "outputs": [
    {
     "data": {
      "text/plain": [
       "79.14"
      ]
     },
     "execution_count": 1460,
     "metadata": {},
     "output_type": "execute_result"
    }
   ],
   "source": [
    "vec_inner_product(t1,t2)"
   ]
  },
  {
   "cell_type": "code",
   "execution_count": 1461,
   "metadata": {},
   "outputs": [],
   "source": [
    "t3 = tuple(range(15))"
   ]
  },
  {
   "cell_type": "code",
   "execution_count": 1465,
   "metadata": {},
   "outputs": [],
   "source": [
    "t4 = tuple(range(5,20))"
   ]
  },
  {
   "cell_type": "code",
   "execution_count": 1466,
   "metadata": {},
   "outputs": [
    {
     "data": {
      "text/plain": [
       "1540.0"
      ]
     },
     "execution_count": 1466,
     "metadata": {},
     "output_type": "execute_result"
    }
   ],
   "source": [
    "vec_inner_product(t3,t4)"
   ]
  },
  {
   "cell_type": "markdown",
   "metadata": {},
   "source": [
    "#### 4.3\n",
    "\n",
    "Write a function check_valid_mx that takes a single argument and returns a Boolean,\n",
    "which is True if the given argument is a tuple that validly represents a matrix as\n",
    "described above, and returns False otherwise. A valid matrix will be a tuple of\n",
    "tuples such that\n",
    "- Every element of the tuple is itself a tuple,\n",
    "- each of these tuples is the same length, and\n",
    "- every element of each of these tuples is a number (i.e., a float or integer)."
   ]
  },
  {
   "cell_type": "code",
   "execution_count": null,
   "metadata": {},
   "outputs": [],
   "source": [
    "def tuple_check(t):\n",
    "    if type(t) != tuple:\n",
    "        return(False)\n",
    "    else:\n",
    "        return(True)\n",
    "\n",
    "def tuple_check_elm(t):\n",
    "    for i in t:\n",
    "        if type(i) != int and type(i) != float:\n",
    "            return(False)\n",
    "        #else:\n",
    "         #   return(False)\n",
    "\n",
    "def tuple_check_len(t1,t2):\n",
    "    if len(t1) == len(t2):\n",
    "        return(True)\n",
    "    else:\n",
    "        return(False)\n",
    "    "
   ]
  },
  {
   "cell_type": "code",
   "execution_count": null,
   "metadata": {},
   "outputs": [],
   "source": [
    "def check_valid_mx(m):\n",
    "    if tuple_check(m) == False:\n",
    "        return(False)\n",
    "    else:\n",
    "        \n",
    "        for i in m:\n",
    "            if tuple_check(i) == False:\n",
    "                return(False)\n",
    "    \n",
    "        for k in range(0,len(m)-1):\n",
    "            if tuple_check_len(m[k],m[k+1]) == False:\n",
    "                return(False)\n",
    "        \n",
    "        for tup in m:\n",
    "            if tuple_check_elm(tup) == False:\n",
    "                return(False)\n",
    "        \n",
    "        return(True)\n",
    "        "
   ]
  },
  {
   "cell_type": "code",
   "execution_count": null,
   "metadata": {},
   "outputs": [],
   "source": [
    "my_mx = ((1,2,9),(3,9,84),(5,9,6,5))"
   ]
  },
  {
   "cell_type": "code",
   "execution_count": null,
   "metadata": {},
   "outputs": [],
   "source": [
    "check_valid_mx(my_mx)"
   ]
  },
  {
   "cell_type": "code",
   "execution_count": null,
   "metadata": {},
   "outputs": [],
   "source": []
  }
 ],
 "metadata": {
  "kernelspec": {
   "display_name": "Python 3",
   "language": "python",
   "name": "python3"
  },
  "language_info": {
   "codemirror_mode": {
    "name": "ipython",
    "version": 3
   },
   "file_extension": ".py",
   "mimetype": "text/x-python",
   "name": "python",
   "nbconvert_exporter": "python",
   "pygments_lexer": "ipython3",
   "version": "3.6.4"
  }
 },
 "nbformat": 4,
 "nbformat_minor": 2
}
