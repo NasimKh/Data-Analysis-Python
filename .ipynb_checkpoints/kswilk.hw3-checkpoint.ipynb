{
 "cells": [
  {
   "cell_type": "markdown",
   "metadata": {},
   "source": [
    "## Stats701 Homework 3, Winter 2018\n",
    "### Working with Files\n",
    "### Katherine Wilkinson\n",
    "#### kswilk@umich.edu"
   ]
  },
  {
   "cell_type": "markdown",
   "metadata": {},
   "source": [
    "### 1 More Fun with Tuples\n",
    "\n",
    "#### 1.1 \n",
    "You may recall that the functions min and max take any (positive) number of arguments,\n",
    "but that sum does not behave similarly. Write a function called my_sum that\n",
    "takes any number of numeric (ints and floats) arguments, and returns the sum of its\n",
    "arguments"
   ]
  },
  {
   "cell_type": "code",
   "execution_count": 148,
   "metadata": {},
   "outputs": [],
   "source": [
    "def my_sum(*t):\n",
    "    s = 0\n",
    "    for i in t:\n",
    "        s = s + i\n",
    "    return(s)"
   ]
  },
  {
   "cell_type": "code",
   "execution_count": 153,
   "metadata": {},
   "outputs": [
    {
     "data": {
      "text/plain": [
       "5"
      ]
     },
     "execution_count": 153,
     "metadata": {},
     "output_type": "execute_result"
    }
   ],
   "source": [
    "my_sum(2,3)"
   ]
  },
  {
   "cell_type": "markdown",
   "metadata": {},
   "source": [
    "#### 1.2\n",
    "Write a function called reverse_tuple that takes a tuple as its only argument and\n",
    "returns a tuple that is the reverse of the input."
   ]
  },
  {
   "cell_type": "code",
   "execution_count": 769,
   "metadata": {},
   "outputs": [],
   "source": [
    "def reverse_tuple(t):\n",
    "    tn = t\n",
    "    t_rev = ()\n",
    "    \n",
    "    while len(tn) > 0:\n",
    "        #for i in range(1,len(tn)+1):\n",
    "        t_rev = t_rev + tn[len(tn)-1:]\n",
    "        tn = tn[:len(tn)-1]\n",
    "            #print(tn)\n",
    "        #tn = tn[:-i]\n",
    "        #return(reverse_tuple(tn))\n",
    "        \n",
    "    return(t_rev)\n",
    "        "
   ]
  },
  {
   "cell_type": "code",
   "execution_count": 770,
   "metadata": {},
   "outputs": [
    {
     "data": {
      "text/plain": [
       "('dog', 6, 5, 4, 'cat', 2, 1)"
      ]
     },
     "execution_count": 770,
     "metadata": {},
     "output_type": "execute_result"
    }
   ],
   "source": [
    "reverse_tuple((1,2,'cat',4,5,6,'dog'))"
   ]
  },
  {
   "cell_type": "markdown",
   "metadata": {},
   "source": [
    "#### 1.3\n",
    "Write a function called rotate_tuple that takes two arguments: a tuple and an\n",
    "integer, in that order. Letting n be the integer given in the input, your function\n",
    "should return a tuple of the same length as the input tuple, but with its entries\n",
    "“rotated” by n."
   ]
  },
  {
   "cell_type": "code",
   "execution_count": 771,
   "metadata": {},
   "outputs": [],
   "source": [
    "def rotate_tuple(t,n):\n",
    "    if type(t) != tuple:\n",
    "        return('First Input must be tuple')\n",
    "    try:\n",
    "        n % len(t)\n",
    "    except TypeError:\n",
    "        print('Casting input to Integer')\n",
    "        try:\n",
    "            n = int(n)\n",
    "        except ValueError:\n",
    "            print('Input type should be integer: Can\\'t cast input to Integer')\n",
    "    \n",
    "    #if t is empty, theres nothing to rotate\n",
    "    if len(t) == 0:\n",
    "        return(t)\n",
    "    #if n < length(t), rotate all numbers by n\n",
    "    #i.e. t[1] -> t[1+n]\n",
    "    elif n < len(t) and n >= 0:\n",
    "        return(t[-n:] + t[0:-n])\n",
    "    #if n > len(t), rotate by n mod len(t)\n",
    "    #i.e. t[1] -> t[1+(n%len(t))]\n",
    "    elif n > len(t):\n",
    "        n_r = n % len(t)\n",
    "        return(t[-n_r:] + t[0:-n_r])\n",
    "    #if n < 0, rotate backwards by len(t) - n mod len(t)\n",
    "    #i.e. -> t[1] -> t[1+(len(t) - n%len(t))]\n",
    "    #this way values are pushed back\n",
    "    elif n < 0:\n",
    "        n_r = len(t) - n % len(t)\n",
    "        return(t[n_r:] + t[0:n_r])\n",
    "    #elif n < 0 and abs(n) > len(t):\n",
    "      #  n_r = -(n % len(n))\n",
    "        \n",
    "        #get remainder of n/len(t)\n",
    "        #to see how much to rotate by\n",
    "        #n_r = n % len(t)\n",
    "    \n",
    "    \n",
    "   "
   ]
  },
  {
   "cell_type": "code",
   "execution_count": 772,
   "metadata": {},
   "outputs": [],
   "source": [
    "t = (1,2,3,10)"
   ]
  },
  {
   "cell_type": "code",
   "execution_count": 774,
   "metadata": {},
   "outputs": [
    {
     "data": {
      "text/plain": [
       "(3, 10, 1, 2)"
      ]
     },
     "execution_count": 774,
     "metadata": {},
     "output_type": "execute_result"
    }
   ],
   "source": [
    "rotate_tuple(t,10)"
   ]
  },
  {
   "cell_type": "code",
   "execution_count": 775,
   "metadata": {},
   "outputs": [
    {
     "data": {
      "text/plain": [
       "(10, 1, 2, 3)"
      ]
     },
     "execution_count": 775,
     "metadata": {},
     "output_type": "execute_result"
    }
   ],
   "source": [
    "rotate_tuple(t,-3)"
   ]
  },
  {
   "cell_type": "markdown",
   "metadata": {},
   "source": [
    "### 2. More Fun with Vectors\n",
    "\n",
    "#### 2.1\n",
    " Write a function is_valid_sparse_vector that takes one argument, and returns\n",
    "True if and only if the input is a valid sparse vector, and returns False otherwise."
   ]
  },
  {
   "cell_type": "code",
   "execution_count": 776,
   "metadata": {},
   "outputs": [],
   "source": [
    "def is_valid_sparse_vector(v):\n",
    "    #Test if input is dictionary\n",
    "    if type(v) != dict:\n",
    "        raise TypeError('Input must be dictionary' )\n",
    "    #Test if keys are integers > 0\n",
    "    for key in v:\n",
    "        if type(key) != int:\n",
    "            return(False)\n",
    "        if key < 0 :\n",
    "            return(False)\n",
    "    #Test if values are floats\n",
    "    for (key, value) in v.items():\n",
    "        if type(value) != float:\n",
    "            return(False)\n",
    "    return(True)\n",
    "\n",
    "    "
   ]
  },
  {
   "cell_type": "code",
   "execution_count": 781,
   "metadata": {},
   "outputs": [],
   "source": [
    "d = {1:2.0,3:4.0,-5:9}"
   ]
  },
  {
   "cell_type": "code",
   "execution_count": 782,
   "metadata": {},
   "outputs": [
    {
     "data": {
      "text/plain": [
       "False"
      ]
     },
     "execution_count": 782,
     "metadata": {},
     "output_type": "execute_result"
    }
   ],
   "source": [
    "is_valid_sparse_vector(d)"
   ]
  },
  {
   "cell_type": "markdown",
   "metadata": {},
   "source": [
    "#### 2.2\n",
    "Write a function sparse_inner_product that takes two “sparse vectors” as its inputs,\n",
    "and returns a float that is the value of the inner product of the vectors that\n",
    "the inputs represent."
   ]
  },
  {
   "cell_type": "code",
   "execution_count": 785,
   "metadata": {},
   "outputs": [],
   "source": [
    "def sparse_inner_product(v1, v2):\n",
    "    #Check if inputs are sparse vectors\n",
    "    if is_valid_sparse_vector(v1) == False or is_valid_sparse_vector(v2) == False:\n",
    "        return('Type Error: inputs must be Sparse Vector')\n",
    "    \n",
    "    v1_l = []\n",
    "    v2_l = []\n",
    "    #put values from sparse vectors into lists\n",
    "    v1_l = list(v1.values())\n",
    "    v2_l = list(v2.values())\n",
    "    \n",
    "    #check that sparse vecotrs are same length\n",
    "    if len(v1_l) != len(v2_l):\n",
    "            return('ValueError: Sparse Vectors must be same length')\n",
    "    \n",
    "    prod = []\n",
    "    #for each value sparse vector 1, \n",
    "    #multiply to corresponding value in sparse vector 2\n",
    "    for i in range(0,len(v1)):\n",
    "        prod.append(v1_l[i]*v2_l[i])\n",
    "    \n",
    "    #sum the product and output as float\n",
    "    x = float(sum(prod))\n",
    "    return(x)"
   ]
  },
  {
   "cell_type": "code",
   "execution_count": 800,
   "metadata": {},
   "outputs": [],
   "source": [
    "d1 = {1:1.0, 2:1.0, 5:float(1)}"
   ]
  },
  {
   "cell_type": "code",
   "execution_count": 801,
   "metadata": {},
   "outputs": [],
   "source": [
    "d2 = {1:1.0, 2:1.0,3:1.0}"
   ]
  },
  {
   "cell_type": "code",
   "execution_count": 802,
   "metadata": {},
   "outputs": [
    {
     "data": {
      "text/plain": [
       "3.0"
      ]
     },
     "execution_count": 802,
     "metadata": {},
     "output_type": "execute_result"
    }
   ],
   "source": [
    "sparse_inner_product(d1,d2)"
   ]
  },
  {
   "cell_type": "markdown",
   "metadata": {},
   "source": [
    "### 3. Counting Word Bigrams\n",
    "\n",
    "#### 3.1\n",
    "Write a function count_bigrams_in_file that takes a filename as its only argument.\n",
    "Your function should read from the given file, and return a dictionary whose keys\n",
    "are bigrams (given in the tuple form above), and values are the counts for those\n",
    "bigrams."
   ]
  },
  {
   "cell_type": "code",
   "execution_count": 803,
   "metadata": {},
   "outputs": [],
   "source": [
    "#Define function to count number of bigrams in list\n",
    "def count_bigram(lst, word1, word2):\n",
    "    cnt = 0 \n",
    "    for i in range(0,len(lst)-1):\n",
    "        if lst[i] == word1 and lst[i+1] == word2:\n",
    "            cnt = cnt + 1\n",
    "    return(cnt)\n",
    "\n",
    "#import string to use in function\n",
    "import string\n",
    "\n",
    "def count_bigrams_in_file(f):\n",
    "    #open bad characters file to strip later\n",
    "    bc = open('badstring.txt')\n",
    "    badchars = bc.read()\n",
    "    bc.close()\n",
    "    \n",
    "    #put punctuation and bad characters together\n",
    "    badchars = badchars + string.punctuation\n",
    "    \n",
    "    #open file\n",
    "    rf = open(f)\n",
    "    \n",
    "    #empty dictionary\n",
    "    d = {}\n",
    "    \n",
    "    lst =[]\n",
    "    for line in rf:\n",
    "        #split file by line\n",
    "        ls = line.split()\n",
    "        \n",
    "        for wd in ls:\n",
    "            #split words and makea all lowercase\n",
    "            #strip off punctuation and bad characters\n",
    "            wds = ((wd.lower()).strip(badchars))\n",
    "            #append all words in file into a list\n",
    "            lst.append(wds)\n",
    "     #loop over word list and call bigram count function on each\n",
    "    #pair of words that appear\n",
    "    for i in range(0, len(lst)-1):\n",
    "        d[(lst[i], lst[i+1])] = count_bigram(lst,lst[i],lst[i+1])\n",
    "    #close file\n",
    "    rf.close()\n",
    "    return(d)"
   ]
  },
  {
   "cell_type": "markdown",
   "metadata": {},
   "source": [
    "#### 3.2\n",
    "Download the file mobydick.txt from the course webpage: http://www-personal.\n",
    "umich.edu/~klevin/teaching/Winter2018/STATS701/mobydick.txt. Run your\n",
    "function on this file, and pickle the resulting dictionary in a file called mb.bigrams.pickle.\n",
    "Please include this file in your submission, along with mobydick.txt, so that we can\n",
    "run your notebook directly from your submission."
   ]
  },
  {
   "cell_type": "code",
   "execution_count": 767,
   "metadata": {},
   "outputs": [],
   "source": [
    "#Call count bigrams on moby dick file\n",
    "br = count_bigrams_in_file('mobydick.txt')"
   ]
  },
  {
   "cell_type": "code",
   "execution_count": 768,
   "metadata": {},
   "outputs": [],
   "source": [
    "#pickle above resulting dictionary into file\n",
    "import pickle\n",
    "\n",
    "mb_bigrams = open('mb.bigrams.pickle','wb')\n",
    "pickle.dump(br, mb_bigrams)\n",
    "mb_bigrams.close()\n"
   ]
  },
  {
   "cell_type": "markdown",
   "metadata": {},
   "source": [
    "#### 3.3\n",
    "We say that word A is collocated with word B in a text if words A and B occur immediately\n",
    "one after another (in either order). That is, words A and B are collocated\n",
    "if and only if either of the tuples (A, B) or (B, A) are present in the text. Write a\n",
    "function collocations that takes a filename as its only argument and returns a dictionary"
   ]
  },
  {
   "cell_type": "code",
   "execution_count": 761,
   "metadata": {},
   "outputs": [],
   "source": [
    "import string\n",
    "\n",
    "def collocations(f):\n",
    "    #open bad characters file to strip later\n",
    "    bc = open('badstring.txt')\n",
    "    badchars = bc.read()\n",
    "    bc.close()\n",
    "    \n",
    "    #open file given as input\n",
    "    rf = open(f)\n",
    "    \n",
    "    #put punctuation and bad characters together\n",
    "    badchars = badchars + string.punctuation\n",
    "    \n",
    "    #split lines and then words\n",
    "    lst =[]\n",
    "    for line in rf:\n",
    "        \n",
    "        ls = line.split()\n",
    "        \n",
    "        for wd in ls:\n",
    "            #make all words lowercase\n",
    "            #strip off bad characters\n",
    "            wds = ((wd.lower()).strip(badchars))\n",
    "            #append words into list\n",
    "            lst.append(wds)\n",
    "    \n",
    "    #put word list into set\n",
    "    s = set(lst)\n",
    "    d = {}\n",
    "    \n",
    "    #loop through set\n",
    "    for i in s:\n",
    "        #put all words as a key in dictionary, initially with no values\n",
    "        d[i] = []\n",
    "        #For first word in list, collocation will just be i+1 word\n",
    "        if lst[0] == i:\n",
    "            #append to corresponding key\n",
    "            d[i].append(lst[1])\n",
    "        \n",
    "        #loop through range of list, starting at lst[1] word\n",
    "        for j in range(1,len(lst)-1):\n",
    "            \n",
    "            if lst[j] == i:\n",
    "                #if word not as value for key i, append it to key\n",
    "                if lst[j+1] not in d[i]:\n",
    "                    d[i].append(lst[j+1])\n",
    "                if lst[j-1] not in d[i]:\n",
    "                    d[i].append(lst[j-1])\n",
    "            #For last word, collocation will just be i-1 word\n",
    "            if lst[-1] == i:\n",
    "                #If not already in key, append\n",
    "                if lst[-2] not in d[i]:\n",
    "                    d[i].append(lst[-2])\n",
    "                    \n",
    "    #Change values from list to tuples\n",
    "    for key in d:\n",
    "        d[key] = tuple(d[key])\n",
    "    return(d)"
   ]
  },
  {
   "cell_type": "markdown",
   "metadata": {},
   "source": [
    "#### 3.4 \n",
    "Run your function on the file mobydick.txt and pickle the resulting dictionary in a\n",
    "file called mb.colloc.pickle."
   ]
  },
  {
   "cell_type": "code",
   "execution_count": 762,
   "metadata": {},
   "outputs": [],
   "source": [
    "#call collocations function on moby dick file\n",
    "result = collocations('mobydick.txt')"
   ]
  },
  {
   "cell_type": "code",
   "execution_count": 764,
   "metadata": {},
   "outputs": [],
   "source": [
    "import pickle\n",
    "#pickle above result into pickle file\n",
    "mb_colloc = open('mb.colloc.pickle','wb')\n",
    "pickle.dump(cbf, mb_colloc)\n",
    "mb_colloc.close()"
   ]
  }
 ],
 "metadata": {
  "kernelspec": {
   "display_name": "Python 3",
   "language": "python",
   "name": "python3"
  },
  "language_info": {
   "codemirror_mode": {
    "name": "ipython",
    "version": 3
   },
   "file_extension": ".py",
   "mimetype": "text/x-python",
   "name": "python",
   "nbconvert_exporter": "python",
   "pygments_lexer": "ipython3",
   "version": "3.6.4"
  }
 },
 "nbformat": 4,
 "nbformat_minor": 2
}
